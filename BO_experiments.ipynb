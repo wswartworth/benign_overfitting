{
  "cells": [
    {
      "cell_type": "code",
      "execution_count": null,
      "metadata": {
        "id": "1RH9fH2KCeyn"
      },
      "outputs": [],
      "source": [
        "import torch\n",
        "from torch import sqrt\n",
        "import torch.nn as nn\n",
        "import torch.optim as optim\n",
        "\n",
        "import math\n",
        "\n",
        "import matplotlib.pyplot as plt\n",
        "\n",
        "from copy import copy\n",
        "from itertools import product\n",
        "from tqdm import tqdm\n",
        "\n",
        "import seaborn as sns\n",
        "\n",
        "import pickle\n",
        "import os\n",
        "\n",
        "import pandas as pd\n",
        "import numpy as np"
      ]
    },
    {
      "cell_type": "markdown",
      "source": [
        "# **Data and model**"
      ],
      "metadata": {
        "id": "l7sve_MPWQeK"
      }
    },
    {
      "cell_type": "code",
      "execution_count": null,
      "metadata": {
        "id": "JQVOUFpZEtog"
      },
      "outputs": [],
      "source": [
        "def uniform_over_sphere(samples, n):\n",
        "  X = torch.randn(samples, n)\n",
        "  return torch.nn.functional.normalize(X, dim=1)\n",
        "\n",
        "def training_data(n, input_dim, gamma, k=0):\n",
        "  '''\n",
        "  Returns a training batch of size 2n.\n",
        "  Positive points are positions 0 through n-1\n",
        "  Negative points are positions n through 2n-1\n",
        "  The k corruptions are at indices 0 through k-1 and n through n+k-1\n",
        "  '''\n",
        "  samples = 2*n\n",
        "  X = torch.zeros(samples, input_dim)\n",
        "  X[:n, 0] = +1 * sqrt(torch.tensor(gamma))\n",
        "  X[n:, 0] = -1 * sqrt(torch.tensor(gamma))\n",
        "  X[:, 1:] = sqrt(torch.tensor(1-gamma)) * uniform_over_sphere(samples, input_dim-1)\n",
        "\n",
        "  y = torch.zeros(samples,1)\n",
        "  y[:n,0] = +1\n",
        "  y[n:,0] = -1\n",
        "\n",
        "  #add corruptions to labels\n",
        "  y[0:k,0]   = -1\n",
        "  y[n:n+k,0] = +1\n",
        "\n",
        "\n",
        "  corrupt_indices = list(range(0,k)) + list(range(n,n+k))\n",
        "  clean_indices = list(range(k,n)) + list(range(n+k, 2*n))\n",
        "\n",
        "  return X, y, clean_indices, corrupt_indices"
      ]
    },
    {
      "cell_type": "code",
      "execution_count": null,
      "metadata": {
        "id": "1QRRwxkYULn7"
      },
      "outputs": [],
      "source": [
        "class TwoLayerNet(nn.Module):\n",
        "    def __init__(self, input_size, hidden_size):\n",
        "\n",
        "        OUTPUT_SIZE = 1\n",
        "\n",
        "        super(TwoLayerNet, self).__init__()\n",
        "        self.fc1 = nn.Linear(in_features=input_size, out_features=hidden_size, bias = False)\n",
        "        #self.fc2.weight.data = lambda_w * torch.randn_like(self.fc2.weight.data) / sqrt()\n",
        "\n",
        "\n",
        "        self.fc2 = nn.Linear(in_features=hidden_size, out_features=OUTPUT_SIZE, bias=False)\n",
        "        self.fc2.weight.data[:, :hidden_size//2] = 1.0  # set half the weights to +1 and -1\n",
        "        self.fc2.weight.data[:, hidden_size//2:] = -1.0\n",
        "        self.fc2.weight.requires_grad = False  # set fc2 weights to not trainable\n",
        "\n",
        "    def forward(self, x):\n",
        "        x = torch.relu(self.fc1(x))\n",
        "        x = self.fc2(x)\n",
        "        return x\n",
        "\n",
        "def hinge_loss(f_out, y):\n",
        "  n = torch.numel(y)\n",
        "  return (1/n)*torch.sum(torch.relu(1 - y*f_out))\n",
        "\n",
        "def logistic_loss(f_out, y):\n",
        "  n = torch.numel(y)\n",
        "  return (1/n)*torch.sum(torch.log(1 + torch.exp(-f_out*y)))"
      ]
    },
    {
      "cell_type": "code",
      "execution_count": null,
      "metadata": {
        "id": "KvySPXSxMeyG"
      },
      "outputs": [],
      "source": [
        "def num_correctly_classified(model_out, y):\n",
        "  return sum(torch.sign(model_out) == torch.sign(y)).item()\n",
        "\n",
        "def num_fully_fitted(model_out, y):\n",
        "  '''Assuming hinge loss'''\n",
        "  return sum(y*model_out >= 1).item()\n",
        "\n",
        "\n",
        "def experiment(input_size, hidden_size, n, k, gamma, step_size, epochs, criterion, compute_test_losses=False):\n",
        "\n",
        "  X, y, clean_indices, corrupt_indices = training_data(n=n, input_dim=input_size, gamma=gamma, k=k)\n",
        "\n",
        "  test_size = 10000\n",
        "  X_test, y_test, _, _ = training_data(n=test_size, input_dim=input_size, gamma=gamma, k=0)\n",
        "\n",
        "  model = TwoLayerNet(input_size=input_size, hidden_size=hidden_size)\n",
        "\n",
        "  optimizer = optim.SGD(model.parameters(), lr=step_size)\n",
        "\n",
        "  fully_fitted_frac = []\n",
        "  correctly_classified_frac = []\n",
        "  correctly_classified_clean_frac = []\n",
        "  correctly_classified_corrupt_frac = []\n",
        "  total_loss = []\n",
        "  clean_loss = []\n",
        "  corrupt_loss = []\n",
        "  test_losses = []\n",
        "  test_correctly_classified_frac = []\n",
        "\n",
        "  for epoch in tqdm(range(epochs)):\n",
        "\n",
        "    optimizer.zero_grad()\n",
        "    outputs = model(X)\n",
        "    loss = criterion(outputs,y)\n",
        "    loss.backward()\n",
        "    optimizer.step()\n",
        "\n",
        "    with torch.no_grad():\n",
        "      fully_fitted_frac.append(num_fully_fitted(outputs, y)/n)\n",
        "\n",
        "      correctly_classified_frac.append(num_correctly_classified(outputs, y)/n)\n",
        "      correctly_classified_clean_frac.append(num_correctly_classified(outputs[clean_indices,:], y[clean_indices,:])/(n-k))\n",
        "      correctly_classified_corrupt_frac.append(num_correctly_classified(outputs[corrupt_indices,:], y[corrupt_indices,:])/k)\n",
        "\n",
        "      total_loss.append(loss.item())\n",
        "      clean_loss.append(criterion(outputs[clean_indices,:], y[clean_indices,:]) )\n",
        "      corrupt_loss.append(criterion(outputs[corrupt_indices,:], y[corrupt_indices,:]) )\n",
        "      if k != 0:\n",
        "        corrupt_loss.append(criterion(outputs[corrupt_indices,:], y[corrupt_indices,:]))\n",
        "      else:\n",
        "        corrupt_loss.append(None)\n",
        "\n",
        "      if compute_test_losses:\n",
        "        test_outputs = model(X_test)\n",
        "        test_loss = criterion(test_outputs, y_test).item()\n",
        "        test_losses.append(test_loss)\n",
        "        test_correctly_classified_frac.append(num_correctly_classified(test_outputs,y_test)/test_size)\n",
        "      else:\n",
        "        test_losses.append(None)\n",
        "        test_correctly_classified_frac.append(None)\n",
        "\n",
        "\n",
        "  #test loss\n",
        "  with torch.no_grad():\n",
        "    test_outputs = model(X_test)\n",
        "    final_test_loss = criterion(test_outputs, y_test).item()\n",
        "\n",
        "  per_epoch_info = {\"fully_fitted_frac\":fully_fitted_frac,\n",
        "                   \"correctly_classified_frac\":correctly_classified_frac,\n",
        "                   \"correctly_classified_clean_frac\": correctly_classified_clean_frac,\n",
        "                   \"correctly_classified_corrupt_frac\": correctly_classified_corrupt_frac,\n",
        "                   \"clean_loss\": clean_loss,\n",
        "                   \"corrupt_loss\": corrupt_loss,\n",
        "                   \"total_loss\": total_loss,\n",
        "                   \"test_losses\": test_losses,\n",
        "                   \"final_test_loss\": final_test_loss,\n",
        "                   \"test_correctly_classified_frac\": test_correctly_classified_frac}\n",
        "\n",
        "  return per_epoch_info"
      ]
    },
    {
      "cell_type": "markdown",
      "metadata": {
        "id": "mbfwpwfHV9oi"
      },
      "source": [
        "## **Hinge Vs. Logistic**"
      ]
    },
    {
      "cell_type": "code",
      "execution_count": null,
      "metadata": {
        "id": "-lIB5ZQaX_Yf"
      },
      "outputs": [],
      "source": [
        "def hinge_vs_logistic_plot(hinge_exp_info, logistic_exp_info, data, normalizing_constant = 1):\n",
        "  plt.plot(np.array(hinge_exp_info[data])/normalizing_constant, label='hinge')\n",
        "  plt.plot(np.array(logistic_exp_info[data])/normalizing_constant, label = 'logistic')\n",
        "  plt.legend()"
      ]
    },
    {
      "cell_type": "code",
      "execution_count": null,
      "metadata": {
        "id": "2khwJqp00zh2"
      },
      "outputs": [],
      "source": [
        "corrupt_frac = 0.1\n",
        "n = 100\n",
        "k = (int)(corrupt_frac * n)\n",
        "\n",
        "num_clean = 2*(n - k)\n",
        "num_corrupt = 2*k\n",
        "\n",
        "base_cfg = {\n",
        "\"input_size\": 800, #d\n",
        "\"hidden_size\": 100,\n",
        "\"n\" : n,\n",
        "\"gamma\" : 0.015,\n",
        "\"k\" : k,\n",
        "\"step_size\" : 0.01,\n",
        "\"epochs\" : 1500,\n",
        "\"criterion\": None,\n",
        "\"compute_test_losses\":True\n",
        "}\n",
        "\n",
        "hinge_cfg = copy(base_cfg)\n",
        "hinge_cfg[\"criterion\"] = hinge_loss\n",
        "\n",
        "logistic_cfg = copy(base_cfg)\n",
        "logistic_cfg[\"criterion\"] = logistic_loss"
      ]
    },
    {
      "cell_type": "code",
      "execution_count": null,
      "metadata": {
        "id": "qWdgxWBMIqFF",
        "colab": {
          "base_uri": "https://localhost:8080/"
        },
        "outputId": "1e9bf255-7bb8-45fa-c43b-c190a9e18abe"
      },
      "outputs": [
        {
          "output_type": "stream",
          "name": "stderr",
          "text": [
            "100%|██████████| 1500/1500 [05:16<00:00,  4.73it/s]\n",
            "100%|██████████| 1500/1500 [05:22<00:00,  4.65it/s]\n"
          ]
        }
      ],
      "source": [
        "hinge_exp_info    = experiment(**hinge_cfg);\n",
        "logistic_exp_info = experiment(**logistic_cfg);"
      ]
    },
    {
      "cell_type": "code",
      "execution_count": null,
      "metadata": {
        "id": "TS3gjaydTpAy"
      },
      "outputs": [],
      "source": [
        "with open('./drive/MyDrive/BO_data/hinge_logistic_data.pkl', 'wb') as output_file:\n",
        "  pickle.dump((hinge_exp_info, logistic_exp_info, hinge_cfg, logistic_cfg), output_file)"
      ]
    },
    {
      "cell_type": "code",
      "execution_count": null,
      "metadata": {
        "id": "w2b-ILkcVDS4"
      },
      "outputs": [],
      "source": [
        "with open('./drive/MyDrive/BO_data/hinge_logistic_data.pkl', 'rb') as input_file:\n",
        "  hinge_exp_info, logistic_exp_info, hinge_cfg, logistic_cfg = pickle.load(input_file)"
      ]
    },
    {
      "cell_type": "code",
      "source": [
        "from google.colab import drive\n",
        "drive.mount('/content/drive')"
      ],
      "metadata": {
        "colab": {
          "base_uri": "https://localhost:8080/"
        },
        "id": "AJVF3kPTVyxC",
        "outputId": "98731b17-3e26-4406-8b42-5067354d93f0"
      },
      "execution_count": null,
      "outputs": [
        {
          "output_type": "stream",
          "name": "stdout",
          "text": [
            "Mounted at /content/drive\n"
          ]
        }
      ]
    },
    {
      "cell_type": "code",
      "execution_count": null,
      "metadata": {
        "colab": {
          "base_uri": "https://localhost:8080/",
          "height": 472
        },
        "id": "hEeNDru1BWNL",
        "outputId": "2afa8575-ea8a-498f-e268-4198b6dc4eb2"
      },
      "outputs": [
        {
          "output_type": "display_data",
          "data": {
            "text/plain": [
              "<Figure size 640x480 with 1 Axes>"
            ],
            "image/png": "[encoded data removed]"
          },
          "metadata": {}
        }
      ],
      "source": [
        "hinge_vs_logistic_plot(hinge_exp_info, logistic_exp_info, data='correctly_classified_clean', normalizing_constant = num_clean)\n",
        "plt.title('Correctly Classified Clean Points')\n",
        "plt.ylabel('Fraction of Points')\n",
        "plt.xlabel('Iteration')\n",
        "plt.savefig('./drive/MyDrive/BO_data/correctly_classified_clean')"
      ]
    },
    {
      "cell_type": "code",
      "execution_count": null,
      "metadata": {
        "colab": {
          "base_uri": "https://localhost:8080/",
          "height": 401
        },
        "id": "8grdUONPSz4m",
        "outputId": "fc01cf9f-3613-4371-9a53-649120aa96b3"
      },
      "outputs": [
        {
          "output_type": "error",
          "ename": "KeyError",
          "evalue": "ignored",
          "traceback": [
            "\u001b[0;31m---------------------------------------------------------------------------\u001b[0m",
            "\u001b[0;31mKeyError\u001b[0m                                  Traceback (most recent call last)",
            "\u001b[0;32m<ipython-input-13-57390f151a77>\u001b[0m in \u001b[0;36m<cell line: 1>\u001b[0;34m()\u001b[0m\n\u001b[0;32m----> 1\u001b[0;31m \u001b[0mhinge_vs_logistic_plot\u001b[0m\u001b[0;34m(\u001b[0m\u001b[0mhinge_exp_info\u001b[0m\u001b[0;34m,\u001b[0m \u001b[0mlogistic_exp_info\u001b[0m\u001b[0;34m,\u001b[0m \u001b[0mdata\u001b[0m\u001b[0;34m=\u001b[0m\u001b[0;34m'correctly_classified_corrupt_frac'\u001b[0m\u001b[0;34m,\u001b[0m \u001b[0mnormalizing_constant\u001b[0m \u001b[0;34m=\u001b[0m \u001b[0;36m2\u001b[0m\u001b[0;34m)\u001b[0m\u001b[0;34m\u001b[0m\u001b[0;34m\u001b[0m\u001b[0m\n\u001b[0m\u001b[1;32m      2\u001b[0m \u001b[0mplt\u001b[0m\u001b[0;34m.\u001b[0m\u001b[0mtitle\u001b[0m\u001b[0;34m(\u001b[0m\u001b[0;34m'Correctly Classified Corrupt Points'\u001b[0m\u001b[0;34m)\u001b[0m\u001b[0;34m\u001b[0m\u001b[0;34m\u001b[0m\u001b[0m\n\u001b[1;32m      3\u001b[0m \u001b[0mplt\u001b[0m\u001b[0;34m.\u001b[0m\u001b[0mylabel\u001b[0m\u001b[0;34m(\u001b[0m\u001b[0;34m'Fraction of Points'\u001b[0m\u001b[0;34m)\u001b[0m\u001b[0;34m\u001b[0m\u001b[0;34m\u001b[0m\u001b[0m\n\u001b[1;32m      4\u001b[0m \u001b[0mplt\u001b[0m\u001b[0;34m.\u001b[0m\u001b[0mxlabel\u001b[0m\u001b[0;34m(\u001b[0m\u001b[0;34m'Iteration'\u001b[0m\u001b[0;34m)\u001b[0m\u001b[0;34m\u001b[0m\u001b[0;34m\u001b[0m\u001b[0m\n\u001b[1;32m      5\u001b[0m \u001b[0mplt\u001b[0m\u001b[0;34m.\u001b[0m\u001b[0msavefig\u001b[0m\u001b[0;34m(\u001b[0m\u001b[0;34m'./correctly_classified_corrupt'\u001b[0m\u001b[0;34m)\u001b[0m\u001b[0;34m\u001b[0m\u001b[0;34m\u001b[0m\u001b[0m\n",
            "\u001b[0;32m<ipython-input-5-f34d122a47e5>\u001b[0m in \u001b[0;36mhinge_vs_logistic_plot\u001b[0;34m(hinge_exp_info, logistic_exp_info, data, normalizing_constant)\u001b[0m\n\u001b[1;32m      1\u001b[0m \u001b[0;32mdef\u001b[0m \u001b[0mhinge_vs_logistic_plot\u001b[0m\u001b[0;34m(\u001b[0m\u001b[0mhinge_exp_info\u001b[0m\u001b[0;34m,\u001b[0m \u001b[0mlogistic_exp_info\u001b[0m\u001b[0;34m,\u001b[0m \u001b[0mdata\u001b[0m\u001b[0;34m,\u001b[0m \u001b[0mnormalizing_constant\u001b[0m \u001b[0;34m=\u001b[0m \u001b[0;36m1\u001b[0m\u001b[0;34m)\u001b[0m\u001b[0;34m:\u001b[0m\u001b[0;34m\u001b[0m\u001b[0;34m\u001b[0m\u001b[0m\n\u001b[0;32m----> 2\u001b[0;31m   \u001b[0mplt\u001b[0m\u001b[0;34m.\u001b[0m\u001b[0mplot\u001b[0m\u001b[0;34m(\u001b[0m\u001b[0mnp\u001b[0m\u001b[0;34m.\u001b[0m\u001b[0marray\u001b[0m\u001b[0;34m(\u001b[0m\u001b[0mhinge_exp_info\u001b[0m\u001b[0;34m[\u001b[0m\u001b[0mdata\u001b[0m\u001b[0;34m]\u001b[0m\u001b[0;34m)\u001b[0m\u001b[0;34m/\u001b[0m\u001b[0mnormalizing_constant\u001b[0m\u001b[0;34m,\u001b[0m \u001b[0mlabel\u001b[0m\u001b[0;34m=\u001b[0m\u001b[0;34m'hinge'\u001b[0m\u001b[0;34m)\u001b[0m\u001b[0;34m\u001b[0m\u001b[0;34m\u001b[0m\u001b[0m\n\u001b[0m\u001b[1;32m      3\u001b[0m   \u001b[0mplt\u001b[0m\u001b[0;34m.\u001b[0m\u001b[0mplot\u001b[0m\u001b[0;34m(\u001b[0m\u001b[0mnp\u001b[0m\u001b[0;34m.\u001b[0m\u001b[0marray\u001b[0m\u001b[0;34m(\u001b[0m\u001b[0mlogistic_exp_info\u001b[0m\u001b[0;34m[\u001b[0m\u001b[0mdata\u001b[0m\u001b[0;34m]\u001b[0m\u001b[0;34m)\u001b[0m\u001b[0;34m/\u001b[0m\u001b[0mnormalizing_constant\u001b[0m\u001b[0;34m,\u001b[0m \u001b[0mlabel\u001b[0m \u001b[0;34m=\u001b[0m \u001b[0;34m'logistic'\u001b[0m\u001b[0;34m)\u001b[0m\u001b[0;34m\u001b[0m\u001b[0;34m\u001b[0m\u001b[0m\n\u001b[1;32m      4\u001b[0m   \u001b[0mplt\u001b[0m\u001b[0;34m.\u001b[0m\u001b[0mlegend\u001b[0m\u001b[0;34m(\u001b[0m\u001b[0;34m)\u001b[0m\u001b[0;34m\u001b[0m\u001b[0;34m\u001b[0m\u001b[0m\n",
            "\u001b[0;31mKeyError\u001b[0m: 'correctly_classified_corrupt_frac'"
          ]
        }
      ],
      "source": [
        "hinge_vs_logistic_plot(hinge_exp_info, logistic_exp_info, data='correctly_classified_corrupt_frac', normalizing_constant = 2)\n",
        "plt.title('Correctly Classified Corrupt Points')\n",
        "plt.ylabel('Fraction of Points')\n",
        "plt.xlabel('Iteration')\n",
        "plt.savefig('./correctly_classified_corrupt')"
      ]
    },
    {
      "cell_type": "code",
      "execution_count": null,
      "metadata": {
        "colab": {
          "base_uri": "https://localhost:8080/",
          "height": 472
        },
        "id": "tlsuro6UToJ_",
        "outputId": "1c729470-3a49-46c3-9068-c55870e2d28d"
      },
      "outputs": [
        {
          "output_type": "display_data",
          "data": {
            "text/plain": [
              "<Figure size 640x480 with 1 Axes>"
            ],
            "image/png": "[encoded data removed]"
          },
          "metadata": {}
        }
      ],
      "source": [
        "hinge_vs_logistic_plot(hinge_exp_info, logistic_exp_info, data='test_correctly_classified', normalizing_constant = 20000)\n",
        "plt.title('Correctly Classified Test Points')\n",
        "plt.ylabel('Fraction of Points')\n",
        "plt.xlabel('Iteration')\n",
        "plt.savefig('./drive/MyDrive/BO_data/correctly_classified_test')"
      ]
    },
    {
      "cell_type": "code",
      "execution_count": null,
      "metadata": {
        "colab": {
          "base_uri": "https://localhost:8080/",
          "height": 472
        },
        "id": "5bVRRYRzIUdL",
        "outputId": "5941bbc1-779f-48db-e677-4c1dbcebeb58"
      },
      "outputs": [
        {
          "output_type": "display_data",
          "data": {
            "text/plain": [
              "<Figure size 640x480 with 1 Axes>"
            ],
            "image/png": "[encoded data removed]"
          },
          "metadata": {}
        }
      ],
      "source": [
        "hinge_vs_logistic_plot(hinge_exp_info, logistic_exp_info, data='clean_loss')\n",
        "plt.yscale('log')\n",
        "plt.title('Clean Loss')\n",
        "plt.ylabel('Hinge Loss')\n",
        "plt.xlabel('Iteration')\n",
        "plt.savefig('./drive/MyDrive/BO_data/clean_loss')"
      ]
    },
    {
      "cell_type": "code",
      "execution_count": null,
      "metadata": {
        "colab": {
          "base_uri": "https://localhost:8080/",
          "height": 480
        },
        "id": "_3n1t4Jdwk9p",
        "outputId": "67379a85-f072-4265-833e-87ae4bb17e2e"
      },
      "outputs": [
        {
          "output_type": "display_data",
          "data": {
            "text/plain": [
              "<Figure size 640x480 with 1 Axes>"
            ],
            "image/png": "[encoded data removed]"
          },
          "metadata": {}
        }
      ],
      "source": [
        "hinge_vs_logistic_plot(hinge_exp_info, logistic_exp_info, data='corrupt_loss')\n",
        "plt.yscale('log')\n",
        "plt.title('Corrupt Loss')\n",
        "plt.ylabel('Hinge Loss')\n",
        "plt.xlabel('Iteration')\n",
        "plt.savefig('./drive/MyDrive/BO_data/corrupt_loss')"
      ]
    },
    {
      "cell_type": "code",
      "execution_count": null,
      "metadata": {
        "colab": {
          "base_uri": "https://localhost:8080/",
          "height": 480
        },
        "id": "6ItAGY4WUvgE",
        "outputId": "68e75e6d-7b8c-4943-f525-2506495078ea"
      },
      "outputs": [
        {
          "output_type": "display_data",
          "data": {
            "text/plain": [
              "<Figure size 640x480 with 1 Axes>"
            ],
            "image/png": "[encoded data removed]"
          },
          "metadata": {}
        }
      ],
      "source": [
        "hinge_vs_logistic_plot(hinge_exp_info, logistic_exp_info, data='test_losses')\n",
        "plt.yscale('log')\n",
        "plt.title('Test Loss')\n",
        "plt.ylabel('Hinge Loss')\n",
        "plt.xlabel('Iteration')\n",
        "plt.savefig('./drive/MyDrive/BO_data/test_loss')"
      ]
    },
    {
      "cell_type": "markdown",
      "metadata": {
        "id": "_L09VTvoWt1P"
      },
      "source": [
        "## **Heat Maps**"
      ]
    },
    {
      "cell_type": "code",
      "execution_count": null,
      "metadata": {
        "id": "bIaOT79MW8c-"
      },
      "outputs": [],
      "source": [
        "def experiment_matrix(base_cfg, gamma_vals, n_vals, corrupt_frac):\n",
        "\n",
        "  '''Returns a 2D array first bracket indexing gamma, and second bracket indexing n'''\n",
        "  matrix = [len(gamma_vals)*[None] for _ in range(len(n_vals))]\n",
        "\n",
        "  for n_idx,n in enumerate(n_vals):\n",
        "    for gamma_idx,gamma in enumerate(gamma_vals):\n",
        "\n",
        "      cfg = copy(base_cfg)\n",
        "      cfg['gamma'], cfg['n'], cfg['k'] = gamma, n, (int)(corrupt_frac * n)\n",
        "\n",
        "      print(cfg)\n",
        "\n",
        "      exp_data = experiment(**cfg)\n",
        "      matrix[n_idx][gamma_idx] = exp_data\n",
        "  return matrix"
      ]
    },
    {
      "cell_type": "code",
      "execution_count": null,
      "metadata": {
        "id": "WWyLwsA5Zx0B"
      },
      "outputs": [],
      "source": [
        "base_cfg = {\n",
        "\"input_size\": 1000, #same as d\n",
        "\"hidden_size\": 30,\n",
        "\"n\" : None,\n",
        "\"gamma\" : None,\n",
        "\"k\" : None,\n",
        "\"step_size\" : 0.005,\n",
        "\"epochs\" : 5000,\n",
        "\"criterion\": hinge_loss,\n",
        "}\n",
        "\n",
        "corrupt_frac = 0.05\n",
        "log_gamma_vals = [-x for x in range(16)]\n",
        "gamma_vals = [2**i for i in log_gamma_vals]#[2**(-x) for x in range(16)]\n",
        "n_vals = range(200,19,-15)"
      ]
    },
    {
      "cell_type": "code",
      "source": [
        "data_matrix = experiment_matrix(base_cfg, gamma_vals, n_vals, corrupt_frac)"
      ],
      "metadata": {
        "id": "vVRnKe7JIXJq",
        "colab": {
          "base_uri": "https://localhost:8080/"
        },
        "outputId": "0171aafb-410f-4a01-dc8d-f75913a48d58"
      },
      "execution_count": null,
      "outputs": [
        {
          "output_type": "stream",
          "name": "stdout",
          "text": [
            "{'input_size': 1000, 'hidden_size': 30, 'n': 200, 'gamma': 1, 'k': 10, 'step_size': 0.005, 'epochs': 5000, 'criterion': <function hinge_loss at 0x7f371a196f80>}\n"
          ]
        },
        {
          "output_type": "stream",
          "name": "stderr",
          "text": [
            "100%|██████████| 5000/5000 [00:49<00:00, 101.29it/s]\n"
          ]
        },
        {
          "output_type": "stream",
          "name": "stdout",
          "text": [
            "{'input_size': 1000, 'hidden_size': 30, 'n': 200, 'gamma': 0.5, 'k': 10, 'step_size': 0.005, 'epochs': 5000, 'criterion': <function hinge_loss at 0x7f371a196f80>}\n"
          ]
        },
        {
          "output_type": "stream",
          "name": "stderr",
          "text": [
            "100%|██████████| 5000/5000 [00:51<00:00, 98.00it/s] \n"
          ]
        },
        {
          "output_type": "stream",
          "name": "stdout",
          "text": [
            "{'input_size': 1000, 'hidden_size': 30, 'n': 200, 'gamma': 0.25, 'k': 10, 'step_size': 0.005, 'epochs': 5000, 'criterion': <function hinge_loss at 0x7f371a196f80>}\n"
          ]
        },
        {
          "output_type": "stream",
          "name": "stderr",
          "text": [
            "100%|██████████| 5000/5000 [00:50<00:00, 99.45it/s] \n"
          ]
        },
        {
          "output_type": "stream",
          "name": "stdout",
          "text": [
            "{'input_size': 1000, 'hidden_size': 30, 'n': 200, 'gamma': 0.125, 'k': 10, 'step_size': 0.005, 'epochs': 5000, 'criterion': <function hinge_loss at 0x7f371a196f80>}\n"
          ]
        },
        {
          "output_type": "stream",
          "name": "stderr",
          "text": [
            "100%|██████████| 5000/5000 [00:48<00:00, 102.52it/s]\n"
          ]
        },
        {
          "output_type": "stream",
          "name": "stdout",
          "text": [
            "{'input_size': 1000, 'hidden_size': 30, 'n': 200, 'gamma': 0.0625, 'k': 10, 'step_size': 0.005, 'epochs': 5000, 'criterion': <function hinge_loss at 0x7f371a196f80>}\n"
          ]
        },
        {
          "output_type": "stream",
          "name": "stderr",
          "text": [
            "100%|██████████| 5000/5000 [00:50<00:00, 98.90it/s] \n"
          ]
        },
        {
          "output_type": "stream",
          "name": "stdout",
          "text": [
            "{'input_size': 1000, 'hidden_size': 30, 'n': 200, 'gamma': 0.03125, 'k': 10, 'step_size': 0.005, 'epochs': 5000, 'criterion': <function hinge_loss at 0x7f371a196f80>}\n"
          ]
        },
        {
          "output_type": "stream",
          "name": "stderr",
          "text": [
            "100%|██████████| 5000/5000 [00:50<00:00, 99.00it/s]\n"
          ]
        },
        {
          "output_type": "stream",
          "name": "stdout",
          "text": [
            "{'input_size': 1000, 'hidden_size': 30, 'n': 200, 'gamma': 0.015625, 'k': 10, 'step_size': 0.005, 'epochs': 5000, 'criterion': <function hinge_loss at 0x7f371a196f80>}\n"
          ]
        },
        {
          "output_type": "stream",
          "name": "stderr",
          "text": [
            "100%|██████████| 5000/5000 [00:48<00:00, 102.32it/s]\n"
          ]
        },
        {
          "output_type": "stream",
          "name": "stdout",
          "text": [
            "{'input_size': 1000, 'hidden_size': 30, 'n': 200, 'gamma': 0.0078125, 'k': 10, 'step_size': 0.005, 'epochs': 5000, 'criterion': <function hinge_loss at 0x7f371a196f80>}\n"
          ]
        },
        {
          "output_type": "stream",
          "name": "stderr",
          "text": [
            "100%|██████████| 5000/5000 [00:50<00:00, 98.93it/s] \n"
          ]
        },
        {
          "output_type": "stream",
          "name": "stdout",
          "text": [
            "{'input_size': 1000, 'hidden_size': 30, 'n': 200, 'gamma': 0.00390625, 'k': 10, 'step_size': 0.005, 'epochs': 5000, 'criterion': <function hinge_loss at 0x7f371a196f80>}\n"
          ]
        },
        {
          "output_type": "stream",
          "name": "stderr",
          "text": [
            "100%|██████████| 5000/5000 [00:51<00:00, 97.23it/s]\n"
          ]
        },
        {
          "output_type": "stream",
          "name": "stdout",
          "text": [
            "{'input_size': 1000, 'hidden_size': 30, 'n': 200, 'gamma': 0.001953125, 'k': 10, 'step_size': 0.005, 'epochs': 5000, 'criterion': <function hinge_loss at 0x7f371a196f80>}\n"
          ]
        },
        {
          "output_type": "stream",
          "name": "stderr",
          "text": [
            "100%|██████████| 5000/5000 [00:49<00:00, 100.82it/s]\n"
          ]
        },
        {
          "output_type": "stream",
          "name": "stdout",
          "text": [
            "{'input_size': 1000, 'hidden_size': 30, 'n': 200, 'gamma': 0.0009765625, 'k': 10, 'step_size': 0.005, 'epochs': 5000, 'criterion': <function hinge_loss at 0x7f371a196f80>}\n"
          ]
        },
        {
          "output_type": "stream",
          "name": "stderr",
          "text": [
            "100%|██████████| 5000/5000 [00:51<00:00, 97.72it/s] \n"
          ]
        },
        {
          "output_type": "stream",
          "name": "stdout",
          "text": [
            "{'input_size': 1000, 'hidden_size': 30, 'n': 200, 'gamma': 0.00048828125, 'k': 10, 'step_size': 0.005, 'epochs': 5000, 'criterion': <function hinge_loss at 0x7f371a196f80>}\n"
          ]
        },
        {
          "output_type": "stream",
          "name": "stderr",
          "text": [
            "100%|██████████| 5000/5000 [00:50<00:00, 98.82it/s] \n"
          ]
        },
        {
          "output_type": "stream",
          "name": "stdout",
          "text": [
            "{'input_size': 1000, 'hidden_size': 30, 'n': 200, 'gamma': 0.000244140625, 'k': 10, 'step_size': 0.005, 'epochs': 5000, 'criterion': <function hinge_loss at 0x7f371a196f80>}\n"
          ]
        },
        {
          "output_type": "stream",
          "name": "stderr",
          "text": [
            "100%|██████████| 5000/5000 [00:48<00:00, 103.57it/s]\n"
          ]
        },
        {
          "output_type": "stream",
          "name": "stdout",
          "text": [
            "{'input_size': 1000, 'hidden_size': 30, 'n': 200, 'gamma': 0.0001220703125, 'k': 10, 'step_size': 0.005, 'epochs': 5000, 'criterion': <function hinge_loss at 0x7f371a196f80>}\n"
          ]
        },
        {
          "output_type": "stream",
          "name": "stderr",
          "text": [
            "100%|██████████| 5000/5000 [00:50<00:00, 99.92it/s] \n"
          ]
        },
        {
          "output_type": "stream",
          "name": "stdout",
          "text": [
            "{'input_size': 1000, 'hidden_size': 30, 'n': 200, 'gamma': 6.103515625e-05, 'k': 10, 'step_size': 0.005, 'epochs': 5000, 'criterion': <function hinge_loss at 0x7f371a196f80>}\n"
          ]
        },
        {
          "output_type": "stream",
          "name": "stderr",
          "text": [
            "100%|██████████| 5000/5000 [00:48<00:00, 102.89it/s]\n"
          ]
        },
        {
          "output_type": "stream",
          "name": "stdout",
          "text": [
            "{'input_size': 1000, 'hidden_size': 30, 'n': 200, 'gamma': 3.0517578125e-05, 'k': 10, 'step_size': 0.005, 'epochs': 5000, 'criterion': <function hinge_loss at 0x7f371a196f80>}\n"
          ]
        },
        {
          "output_type": "stream",
          "name": "stderr",
          "text": [
            "100%|██████████| 5000/5000 [00:48<00:00, 102.44it/s]\n"
          ]
        },
        {
          "output_type": "stream",
          "name": "stdout",
          "text": [
            "{'input_size': 1000, 'hidden_size': 30, 'n': 185, 'gamma': 1, 'k': 9, 'step_size': 0.005, 'epochs': 5000, 'criterion': <function hinge_loss at 0x7f371a196f80>}\n"
          ]
        },
        {
          "output_type": "stream",
          "name": "stderr",
          "text": [
            "100%|██████████| 5000/5000 [00:45<00:00, 111.04it/s]\n"
          ]
        },
        {
          "output_type": "stream",
          "name": "stdout",
          "text": [
            "{'input_size': 1000, 'hidden_size': 30, 'n': 185, 'gamma': 0.5, 'k': 9, 'step_size': 0.005, 'epochs': 5000, 'criterion': <function hinge_loss at 0x7f371a196f80>}\n"
          ]
        },
        {
          "output_type": "stream",
          "name": "stderr",
          "text": [
            "100%|██████████| 5000/5000 [00:46<00:00, 107.41it/s]\n"
          ]
        },
        {
          "output_type": "stream",
          "name": "stdout",
          "text": [
            "{'input_size': 1000, 'hidden_size': 30, 'n': 185, 'gamma': 0.25, 'k': 9, 'step_size': 0.005, 'epochs': 5000, 'criterion': <function hinge_loss at 0x7f371a196f80>}\n"
          ]
        },
        {
          "output_type": "stream",
          "name": "stderr",
          "text": [
            "100%|██████████| 5000/5000 [00:46<00:00, 107.90it/s]\n"
          ]
        },
        {
          "output_type": "stream",
          "name": "stdout",
          "text": [
            "{'input_size': 1000, 'hidden_size': 30, 'n': 185, 'gamma': 0.125, 'k': 9, 'step_size': 0.005, 'epochs': 5000, 'criterion': <function hinge_loss at 0x7f371a196f80>}\n"
          ]
        },
        {
          "output_type": "stream",
          "name": "stderr",
          "text": [
            "100%|██████████| 5000/5000 [00:46<00:00, 106.99it/s]\n"
          ]
        },
        {
          "output_type": "stream",
          "name": "stdout",
          "text": [
            "{'input_size': 1000, 'hidden_size': 30, 'n': 185, 'gamma': 0.0625, 'k': 9, 'step_size': 0.005, 'epochs': 5000, 'criterion': <function hinge_loss at 0x7f371a196f80>}\n"
          ]
        },
        {
          "output_type": "stream",
          "name": "stderr",
          "text": [
            "100%|██████████| 5000/5000 [00:45<00:00, 110.55it/s]\n"
          ]
        },
        {
          "output_type": "stream",
          "name": "stdout",
          "text": [
            "{'input_size': 1000, 'hidden_size': 30, 'n': 185, 'gamma': 0.03125, 'k': 9, 'step_size': 0.005, 'epochs': 5000, 'criterion': <function hinge_loss at 0x7f371a196f80>}\n"
          ]
        },
        {
          "output_type": "stream",
          "name": "stderr",
          "text": [
            "100%|██████████| 5000/5000 [00:45<00:00, 110.54it/s]\n"
          ]
        },
        {
          "output_type": "stream",
          "name": "stdout",
          "text": [
            "{'input_size': 1000, 'hidden_size': 30, 'n': 185, 'gamma': 0.015625, 'k': 9, 'step_size': 0.005, 'epochs': 5000, 'criterion': <function hinge_loss at 0x7f371a196f80>}\n"
          ]
        },
        {
          "output_type": "stream",
          "name": "stderr",
          "text": [
            "100%|██████████| 5000/5000 [00:48<00:00, 104.12it/s]\n"
          ]
        },
        {
          "output_type": "stream",
          "name": "stdout",
          "text": [
            "{'input_size': 1000, 'hidden_size': 30, 'n': 185, 'gamma': 0.0078125, 'k': 9, 'step_size': 0.005, 'epochs': 5000, 'criterion': <function hinge_loss at 0x7f371a196f80>}\n"
          ]
        },
        {
          "output_type": "stream",
          "name": "stderr",
          "text": [
            "100%|██████████| 5000/5000 [00:45<00:00, 109.91it/s]\n"
          ]
        },
        {
          "output_type": "stream",
          "name": "stdout",
          "text": [
            "{'input_size': 1000, 'hidden_size': 30, 'n': 185, 'gamma': 0.00390625, 'k': 9, 'step_size': 0.005, 'epochs': 5000, 'criterion': <function hinge_loss at 0x7f371a196f80>}\n"
          ]
        },
        {
          "output_type": "stream",
          "name": "stderr",
          "text": [
            "100%|██████████| 5000/5000 [00:45<00:00, 109.15it/s]\n"
          ]
        },
        {
          "output_type": "stream",
          "name": "stdout",
          "text": [
            "{'input_size': 1000, 'hidden_size': 30, 'n': 185, 'gamma': 0.001953125, 'k': 9, 'step_size': 0.005, 'epochs': 5000, 'criterion': <function hinge_loss at 0x7f371a196f80>}\n"
          ]
        },
        {
          "output_type": "stream",
          "name": "stderr",
          "text": [
            "100%|██████████| 5000/5000 [00:46<00:00, 108.48it/s]\n"
          ]
        },
        {
          "output_type": "stream",
          "name": "stdout",
          "text": [
            "{'input_size': 1000, 'hidden_size': 30, 'n': 185, 'gamma': 0.0009765625, 'k': 9, 'step_size': 0.005, 'epochs': 5000, 'criterion': <function hinge_loss at 0x7f371a196f80>}\n"
          ]
        },
        {
          "output_type": "stream",
          "name": "stderr",
          "text": [
            "100%|██████████| 5000/5000 [00:46<00:00, 106.83it/s]\n"
          ]
        },
        {
          "output_type": "stream",
          "name": "stdout",
          "text": [
            "{'input_size': 1000, 'hidden_size': 30, 'n': 185, 'gamma': 0.00048828125, 'k': 9, 'step_size': 0.005, 'epochs': 5000, 'criterion': <function hinge_loss at 0x7f371a196f80>}\n"
          ]
        },
        {
          "output_type": "stream",
          "name": "stderr",
          "text": [
            "100%|██████████| 5000/5000 [00:47<00:00, 105.59it/s]\n"
          ]
        },
        {
          "output_type": "stream",
          "name": "stdout",
          "text": [
            "{'input_size': 1000, 'hidden_size': 30, 'n': 185, 'gamma': 0.000244140625, 'k': 9, 'step_size': 0.005, 'epochs': 5000, 'criterion': <function hinge_loss at 0x7f371a196f80>}\n"
          ]
        },
        {
          "output_type": "stream",
          "name": "stderr",
          "text": [
            "100%|██████████| 5000/5000 [00:45<00:00, 110.51it/s]\n"
          ]
        },
        {
          "output_type": "stream",
          "name": "stdout",
          "text": [
            "{'input_size': 1000, 'hidden_size': 30, 'n': 185, 'gamma': 0.0001220703125, 'k': 9, 'step_size': 0.005, 'epochs': 5000, 'criterion': <function hinge_loss at 0x7f371a196f80>}\n"
          ]
        },
        {
          "output_type": "stream",
          "name": "stderr",
          "text": [
            "100%|██████████| 5000/5000 [00:45<00:00, 108.83it/s]\n"
          ]
        },
        {
          "output_type": "stream",
          "name": "stdout",
          "text": [
            "{'input_size': 1000, 'hidden_size': 30, 'n': 185, 'gamma': 6.103515625e-05, 'k': 9, 'step_size': 0.005, 'epochs': 5000, 'criterion': <function hinge_loss at 0x7f371a196f80>}\n"
          ]
        },
        {
          "output_type": "stream",
          "name": "stderr",
          "text": [
            "100%|██████████| 5000/5000 [00:46<00:00, 106.55it/s]\n"
          ]
        },
        {
          "output_type": "stream",
          "name": "stdout",
          "text": [
            "{'input_size': 1000, 'hidden_size': 30, 'n': 185, 'gamma': 3.0517578125e-05, 'k': 9, 'step_size': 0.005, 'epochs': 5000, 'criterion': <function hinge_loss at 0x7f371a196f80>}\n"
          ]
        },
        {
          "output_type": "stream",
          "name": "stderr",
          "text": [
            "100%|██████████| 5000/5000 [00:45<00:00, 108.71it/s]\n"
          ]
        },
        {
          "output_type": "stream",
          "name": "stdout",
          "text": [
            "{'input_size': 1000, 'hidden_size': 30, 'n': 170, 'gamma': 1, 'k': 8, 'step_size': 0.005, 'epochs': 5000, 'criterion': <function hinge_loss at 0x7f371a196f80>}\n"
          ]
        },
        {
          "output_type": "stream",
          "name": "stderr",
          "text": [
            "100%|██████████| 5000/5000 [00:42<00:00, 116.42it/s]\n"
          ]
        },
        {
          "output_type": "stream",
          "name": "stdout",
          "text": [
            "{'input_size': 1000, 'hidden_size': 30, 'n': 170, 'gamma': 0.5, 'k': 8, 'step_size': 0.005, 'epochs': 5000, 'criterion': <function hinge_loss at 0x7f371a196f80>}\n"
          ]
        },
        {
          "output_type": "stream",
          "name": "stderr",
          "text": [
            "100%|██████████| 5000/5000 [00:44<00:00, 113.25it/s]\n"
          ]
        },
        {
          "output_type": "stream",
          "name": "stdout",
          "text": [
            "{'input_size': 1000, 'hidden_size': 30, 'n': 170, 'gamma': 0.25, 'k': 8, 'step_size': 0.005, 'epochs': 5000, 'criterion': <function hinge_loss at 0x7f371a196f80>}\n"
          ]
        },
        {
          "output_type": "stream",
          "name": "stderr",
          "text": [
            "100%|██████████| 5000/5000 [00:43<00:00, 114.06it/s]\n"
          ]
        },
        {
          "output_type": "stream",
          "name": "stdout",
          "text": [
            "{'input_size': 1000, 'hidden_size': 30, 'n': 170, 'gamma': 0.125, 'k': 8, 'step_size': 0.005, 'epochs': 5000, 'criterion': <function hinge_loss at 0x7f371a196f80>}\n"
          ]
        },
        {
          "output_type": "stream",
          "name": "stderr",
          "text": [
            "100%|██████████| 5000/5000 [00:43<00:00, 115.21it/s]\n"
          ]
        },
        {
          "output_type": "stream",
          "name": "stdout",
          "text": [
            "{'input_size': 1000, 'hidden_size': 30, 'n': 170, 'gamma': 0.0625, 'k': 8, 'step_size': 0.005, 'epochs': 5000, 'criterion': <function hinge_loss at 0x7f371a196f80>}\n"
          ]
        },
        {
          "output_type": "stream",
          "name": "stderr",
          "text": [
            "100%|██████████| 5000/5000 [00:43<00:00, 115.01it/s]\n"
          ]
        },
        {
          "output_type": "stream",
          "name": "stdout",
          "text": [
            "{'input_size': 1000, 'hidden_size': 30, 'n': 170, 'gamma': 0.03125, 'k': 8, 'step_size': 0.005, 'epochs': 5000, 'criterion': <function hinge_loss at 0x7f371a196f80>}\n"
          ]
        },
        {
          "output_type": "stream",
          "name": "stderr",
          "text": [
            "100%|██████████| 5000/5000 [00:43<00:00, 114.47it/s]\n"
          ]
        },
        {
          "output_type": "stream",
          "name": "stdout",
          "text": [
            "{'input_size': 1000, 'hidden_size': 30, 'n': 170, 'gamma': 0.015625, 'k': 8, 'step_size': 0.005, 'epochs': 5000, 'criterion': <function hinge_loss at 0x7f371a196f80>}\n"
          ]
        },
        {
          "output_type": "stream",
          "name": "stderr",
          "text": [
            "100%|██████████| 5000/5000 [00:44<00:00, 113.51it/s]\n"
          ]
        },
        {
          "output_type": "stream",
          "name": "stdout",
          "text": [
            "{'input_size': 1000, 'hidden_size': 30, 'n': 170, 'gamma': 0.0078125, 'k': 8, 'step_size': 0.005, 'epochs': 5000, 'criterion': <function hinge_loss at 0x7f371a196f80>}\n"
          ]
        },
        {
          "output_type": "stream",
          "name": "stderr",
          "text": [
            "100%|██████████| 5000/5000 [00:43<00:00, 114.12it/s]\n"
          ]
        },
        {
          "output_type": "stream",
          "name": "stdout",
          "text": [
            "{'input_size': 1000, 'hidden_size': 30, 'n': 170, 'gamma': 0.00390625, 'k': 8, 'step_size': 0.005, 'epochs': 5000, 'criterion': <function hinge_loss at 0x7f371a196f80>}\n"
          ]
        },
        {
          "output_type": "stream",
          "name": "stderr",
          "text": [
            "100%|██████████| 5000/5000 [00:42<00:00, 117.05it/s]\n"
          ]
        },
        {
          "output_type": "stream",
          "name": "stdout",
          "text": [
            "{'input_size': 1000, 'hidden_size': 30, 'n': 170, 'gamma': 0.001953125, 'k': 8, 'step_size': 0.005, 'epochs': 5000, 'criterion': <function hinge_loss at 0x7f371a196f80>}\n"
          ]
        },
        {
          "output_type": "stream",
          "name": "stderr",
          "text": [
            "100%|██████████| 5000/5000 [00:42<00:00, 117.92it/s]\n"
          ]
        },
        {
          "output_type": "stream",
          "name": "stdout",
          "text": [
            "{'input_size': 1000, 'hidden_size': 30, 'n': 170, 'gamma': 0.0009765625, 'k': 8, 'step_size': 0.005, 'epochs': 5000, 'criterion': <function hinge_loss at 0x7f371a196f80>}\n"
          ]
        },
        {
          "output_type": "stream",
          "name": "stderr",
          "text": [
            "100%|██████████| 5000/5000 [00:42<00:00, 117.48it/s]\n"
          ]
        },
        {
          "output_type": "stream",
          "name": "stdout",
          "text": [
            "{'input_size': 1000, 'hidden_size': 30, 'n': 170, 'gamma': 0.00048828125, 'k': 8, 'step_size': 0.005, 'epochs': 5000, 'criterion': <function hinge_loss at 0x7f371a196f80>}\n"
          ]
        },
        {
          "output_type": "stream",
          "name": "stderr",
          "text": [
            "100%|██████████| 5000/5000 [00:42<00:00, 118.35it/s]\n"
          ]
        },
        {
          "output_type": "stream",
          "name": "stdout",
          "text": [
            "{'input_size': 1000, 'hidden_size': 30, 'n': 170, 'gamma': 0.000244140625, 'k': 8, 'step_size': 0.005, 'epochs': 5000, 'criterion': <function hinge_loss at 0x7f371a196f80>}\n"
          ]
        },
        {
          "output_type": "stream",
          "name": "stderr",
          "text": [
            "100%|██████████| 5000/5000 [00:42<00:00, 118.32it/s]\n"
          ]
        },
        {
          "output_type": "stream",
          "name": "stdout",
          "text": [
            "{'input_size': 1000, 'hidden_size': 30, 'n': 170, 'gamma': 0.0001220703125, 'k': 8, 'step_size': 0.005, 'epochs': 5000, 'criterion': <function hinge_loss at 0x7f371a196f80>}\n"
          ]
        },
        {
          "output_type": "stream",
          "name": "stderr",
          "text": [
            "100%|██████████| 5000/5000 [00:42<00:00, 117.74it/s]\n"
          ]
        },
        {
          "output_type": "stream",
          "name": "stdout",
          "text": [
            "{'input_size': 1000, 'hidden_size': 30, 'n': 170, 'gamma': 6.103515625e-05, 'k': 8, 'step_size': 0.005, 'epochs': 5000, 'criterion': <function hinge_loss at 0x7f371a196f80>}\n"
          ]
        },
        {
          "output_type": "stream",
          "name": "stderr",
          "text": [
            "100%|██████████| 5000/5000 [00:42<00:00, 117.53it/s]\n"
          ]
        },
        {
          "output_type": "stream",
          "name": "stdout",
          "text": [
            "{'input_size': 1000, 'hidden_size': 30, 'n': 170, 'gamma': 3.0517578125e-05, 'k': 8, 'step_size': 0.005, 'epochs': 5000, 'criterion': <function hinge_loss at 0x7f371a196f80>}\n"
          ]
        },
        {
          "output_type": "stream",
          "name": "stderr",
          "text": [
            "100%|██████████| 5000/5000 [00:42<00:00, 117.33it/s]\n"
          ]
        },
        {
          "output_type": "stream",
          "name": "stdout",
          "text": [
            "{'input_size': 1000, 'hidden_size': 30, 'n': 155, 'gamma': 1, 'k': 7, 'step_size': 0.005, 'epochs': 5000, 'criterion': <function hinge_loss at 0x7f371a196f80>}\n"
          ]
        },
        {
          "output_type": "stream",
          "name": "stderr",
          "text": [
            "100%|██████████| 5000/5000 [00:38<00:00, 131.12it/s]\n"
          ]
        },
        {
          "output_type": "stream",
          "name": "stdout",
          "text": [
            "{'input_size': 1000, 'hidden_size': 30, 'n': 155, 'gamma': 0.5, 'k': 7, 'step_size': 0.005, 'epochs': 5000, 'criterion': <function hinge_loss at 0x7f371a196f80>}\n"
          ]
        },
        {
          "output_type": "stream",
          "name": "stderr",
          "text": [
            "100%|██████████| 5000/5000 [00:38<00:00, 128.66it/s]\n"
          ]
        },
        {
          "output_type": "stream",
          "name": "stdout",
          "text": [
            "{'input_size': 1000, 'hidden_size': 30, 'n': 155, 'gamma': 0.25, 'k': 7, 'step_size': 0.005, 'epochs': 5000, 'criterion': <function hinge_loss at 0x7f371a196f80>}\n"
          ]
        },
        {
          "output_type": "stream",
          "name": "stderr",
          "text": [
            "100%|██████████| 5000/5000 [00:39<00:00, 125.80it/s]\n"
          ]
        },
        {
          "output_type": "stream",
          "name": "stdout",
          "text": [
            "{'input_size': 1000, 'hidden_size': 30, 'n': 155, 'gamma': 0.125, 'k': 7, 'step_size': 0.005, 'epochs': 5000, 'criterion': <function hinge_loss at 0x7f371a196f80>}\n"
          ]
        },
        {
          "output_type": "stream",
          "name": "stderr",
          "text": [
            "100%|██████████| 5000/5000 [00:39<00:00, 126.88it/s]\n"
          ]
        },
        {
          "output_type": "stream",
          "name": "stdout",
          "text": [
            "{'input_size': 1000, 'hidden_size': 30, 'n': 155, 'gamma': 0.0625, 'k': 7, 'step_size': 0.005, 'epochs': 5000, 'criterion': <function hinge_loss at 0x7f371a196f80>}\n"
          ]
        },
        {
          "output_type": "stream",
          "name": "stderr",
          "text": [
            "100%|██████████| 5000/5000 [00:39<00:00, 127.73it/s]\n"
          ]
        },
        {
          "output_type": "stream",
          "name": "stdout",
          "text": [
            "{'input_size': 1000, 'hidden_size': 30, 'n': 155, 'gamma': 0.03125, 'k': 7, 'step_size': 0.005, 'epochs': 5000, 'criterion': <function hinge_loss at 0x7f371a196f80>}\n"
          ]
        },
        {
          "output_type": "stream",
          "name": "stderr",
          "text": [
            "100%|██████████| 5000/5000 [00:39<00:00, 127.39it/s]\n"
          ]
        },
        {
          "output_type": "stream",
          "name": "stdout",
          "text": [
            "{'input_size': 1000, 'hidden_size': 30, 'n': 155, 'gamma': 0.015625, 'k': 7, 'step_size': 0.005, 'epochs': 5000, 'criterion': <function hinge_loss at 0x7f371a196f80>}\n"
          ]
        },
        {
          "output_type": "stream",
          "name": "stderr",
          "text": [
            "100%|██████████| 5000/5000 [00:39<00:00, 126.66it/s]\n"
          ]
        },
        {
          "output_type": "stream",
          "name": "stdout",
          "text": [
            "{'input_size': 1000, 'hidden_size': 30, 'n': 155, 'gamma': 0.0078125, 'k': 7, 'step_size': 0.005, 'epochs': 5000, 'criterion': <function hinge_loss at 0x7f371a196f80>}\n"
          ]
        },
        {
          "output_type": "stream",
          "name": "stderr",
          "text": [
            "100%|██████████| 5000/5000 [00:39<00:00, 126.89it/s]\n"
          ]
        },
        {
          "output_type": "stream",
          "name": "stdout",
          "text": [
            "{'input_size': 1000, 'hidden_size': 30, 'n': 155, 'gamma': 0.00390625, 'k': 7, 'step_size': 0.005, 'epochs': 5000, 'criterion': <function hinge_loss at 0x7f371a196f80>}\n"
          ]
        },
        {
          "output_type": "stream",
          "name": "stderr",
          "text": [
            "100%|██████████| 5000/5000 [00:38<00:00, 128.49it/s]\n"
          ]
        },
        {
          "output_type": "stream",
          "name": "stdout",
          "text": [
            "{'input_size': 1000, 'hidden_size': 30, 'n': 155, 'gamma': 0.001953125, 'k': 7, 'step_size': 0.005, 'epochs': 5000, 'criterion': <function hinge_loss at 0x7f371a196f80>}\n"
          ]
        },
        {
          "output_type": "stream",
          "name": "stderr",
          "text": [
            "100%|██████████| 5000/5000 [00:38<00:00, 128.73it/s]\n"
          ]
        },
        {
          "output_type": "stream",
          "name": "stdout",
          "text": [
            "{'input_size': 1000, 'hidden_size': 30, 'n': 155, 'gamma': 0.0009765625, 'k': 7, 'step_size': 0.005, 'epochs': 5000, 'criterion': <function hinge_loss at 0x7f371a196f80>}\n"
          ]
        },
        {
          "output_type": "stream",
          "name": "stderr",
          "text": [
            "100%|██████████| 5000/5000 [00:39<00:00, 126.94it/s]\n"
          ]
        },
        {
          "output_type": "stream",
          "name": "stdout",
          "text": [
            "{'input_size': 1000, 'hidden_size': 30, 'n': 155, 'gamma': 0.00048828125, 'k': 7, 'step_size': 0.005, 'epochs': 5000, 'criterion': <function hinge_loss at 0x7f371a196f80>}\n"
          ]
        },
        {
          "output_type": "stream",
          "name": "stderr",
          "text": [
            "100%|██████████| 5000/5000 [00:39<00:00, 125.03it/s]\n"
          ]
        },
        {
          "output_type": "stream",
          "name": "stdout",
          "text": [
            "{'input_size': 1000, 'hidden_size': 30, 'n': 155, 'gamma': 0.000244140625, 'k': 7, 'step_size': 0.005, 'epochs': 5000, 'criterion': <function hinge_loss at 0x7f371a196f80>}\n"
          ]
        },
        {
          "output_type": "stream",
          "name": "stderr",
          "text": [
            "100%|██████████| 5000/5000 [00:39<00:00, 126.28it/s]\n"
          ]
        },
        {
          "output_type": "stream",
          "name": "stdout",
          "text": [
            "{'input_size': 1000, 'hidden_size': 30, 'n': 155, 'gamma': 0.0001220703125, 'k': 7, 'step_size': 0.005, 'epochs': 5000, 'criterion': <function hinge_loss at 0x7f371a196f80>}\n"
          ]
        },
        {
          "output_type": "stream",
          "name": "stderr",
          "text": [
            "100%|██████████| 5000/5000 [00:39<00:00, 126.09it/s]\n"
          ]
        },
        {
          "output_type": "stream",
          "name": "stdout",
          "text": [
            "{'input_size': 1000, 'hidden_size': 30, 'n': 155, 'gamma': 6.103515625e-05, 'k': 7, 'step_size': 0.005, 'epochs': 5000, 'criterion': <function hinge_loss at 0x7f371a196f80>}\n"
          ]
        },
        {
          "output_type": "stream",
          "name": "stderr",
          "text": [
            "100%|██████████| 5000/5000 [00:39<00:00, 125.63it/s]\n"
          ]
        },
        {
          "output_type": "stream",
          "name": "stdout",
          "text": [
            "{'input_size': 1000, 'hidden_size': 30, 'n': 155, 'gamma': 3.0517578125e-05, 'k': 7, 'step_size': 0.005, 'epochs': 5000, 'criterion': <function hinge_loss at 0x7f371a196f80>}\n"
          ]
        },
        {
          "output_type": "stream",
          "name": "stderr",
          "text": [
            "100%|██████████| 5000/5000 [00:39<00:00, 125.66it/s]\n"
          ]
        },
        {
          "output_type": "stream",
          "name": "stdout",
          "text": [
            "{'input_size': 1000, 'hidden_size': 30, 'n': 140, 'gamma': 1, 'k': 7, 'step_size': 0.005, 'epochs': 5000, 'criterion': <function hinge_loss at 0x7f371a196f80>}\n"
          ]
        },
        {
          "output_type": "stream",
          "name": "stderr",
          "text": [
            "100%|██████████| 5000/5000 [00:36<00:00, 135.71it/s]\n"
          ]
        },
        {
          "output_type": "stream",
          "name": "stdout",
          "text": [
            "{'input_size': 1000, 'hidden_size': 30, 'n': 140, 'gamma': 0.5, 'k': 7, 'step_size': 0.005, 'epochs': 5000, 'criterion': <function hinge_loss at 0x7f371a196f80>}\n"
          ]
        },
        {
          "output_type": "stream",
          "name": "stderr",
          "text": [
            "100%|██████████| 5000/5000 [00:36<00:00, 138.42it/s]\n"
          ]
        },
        {
          "output_type": "stream",
          "name": "stdout",
          "text": [
            "{'input_size': 1000, 'hidden_size': 30, 'n': 140, 'gamma': 0.25, 'k': 7, 'step_size': 0.005, 'epochs': 5000, 'criterion': <function hinge_loss at 0x7f371a196f80>}\n"
          ]
        },
        {
          "output_type": "stream",
          "name": "stderr",
          "text": [
            "100%|██████████| 5000/5000 [00:37<00:00, 133.48it/s]\n"
          ]
        },
        {
          "output_type": "stream",
          "name": "stdout",
          "text": [
            "{'input_size': 1000, 'hidden_size': 30, 'n': 140, 'gamma': 0.125, 'k': 7, 'step_size': 0.005, 'epochs': 5000, 'criterion': <function hinge_loss at 0x7f371a196f80>}\n"
          ]
        },
        {
          "output_type": "stream",
          "name": "stderr",
          "text": [
            "100%|██████████| 5000/5000 [00:37<00:00, 133.23it/s]\n"
          ]
        },
        {
          "output_type": "stream",
          "name": "stdout",
          "text": [
            "{'input_size': 1000, 'hidden_size': 30, 'n': 140, 'gamma': 0.0625, 'k': 7, 'step_size': 0.005, 'epochs': 5000, 'criterion': <function hinge_loss at 0x7f371a196f80>}\n"
          ]
        },
        {
          "output_type": "stream",
          "name": "stderr",
          "text": [
            "100%|██████████| 5000/5000 [00:36<00:00, 138.12it/s]\n"
          ]
        },
        {
          "output_type": "stream",
          "name": "stdout",
          "text": [
            "{'input_size': 1000, 'hidden_size': 30, 'n': 140, 'gamma': 0.03125, 'k': 7, 'step_size': 0.005, 'epochs': 5000, 'criterion': <function hinge_loss at 0x7f371a196f80>}\n"
          ]
        },
        {
          "output_type": "stream",
          "name": "stderr",
          "text": [
            "100%|██████████| 5000/5000 [00:36<00:00, 137.43it/s]\n"
          ]
        },
        {
          "output_type": "stream",
          "name": "stdout",
          "text": [
            "{'input_size': 1000, 'hidden_size': 30, 'n': 140, 'gamma': 0.015625, 'k': 7, 'step_size': 0.005, 'epochs': 5000, 'criterion': <function hinge_loss at 0x7f371a196f80>}\n"
          ]
        },
        {
          "output_type": "stream",
          "name": "stderr",
          "text": [
            "100%|██████████| 5000/5000 [00:36<00:00, 135.42it/s]\n"
          ]
        },
        {
          "output_type": "stream",
          "name": "stdout",
          "text": [
            "{'input_size': 1000, 'hidden_size': 30, 'n': 140, 'gamma': 0.0078125, 'k': 7, 'step_size': 0.005, 'epochs': 5000, 'criterion': <function hinge_loss at 0x7f371a196f80>}\n"
          ]
        },
        {
          "output_type": "stream",
          "name": "stderr",
          "text": [
            "100%|██████████| 5000/5000 [00:36<00:00, 136.75it/s]\n"
          ]
        },
        {
          "output_type": "stream",
          "name": "stdout",
          "text": [
            "{'input_size': 1000, 'hidden_size': 30, 'n': 140, 'gamma': 0.00390625, 'k': 7, 'step_size': 0.005, 'epochs': 5000, 'criterion': <function hinge_loss at 0x7f371a196f80>}\n"
          ]
        },
        {
          "output_type": "stream",
          "name": "stderr",
          "text": [
            "100%|██████████| 5000/5000 [00:35<00:00, 139.05it/s]\n"
          ]
        },
        {
          "output_type": "stream",
          "name": "stdout",
          "text": [
            "{'input_size': 1000, 'hidden_size': 30, 'n': 140, 'gamma': 0.001953125, 'k': 7, 'step_size': 0.005, 'epochs': 5000, 'criterion': <function hinge_loss at 0x7f371a196f80>}\n"
          ]
        },
        {
          "output_type": "stream",
          "name": "stderr",
          "text": [
            "100%|██████████| 5000/5000 [00:36<00:00, 135.38it/s]\n"
          ]
        },
        {
          "output_type": "stream",
          "name": "stdout",
          "text": [
            "{'input_size': 1000, 'hidden_size': 30, 'n': 140, 'gamma': 0.0009765625, 'k': 7, 'step_size': 0.005, 'epochs': 5000, 'criterion': <function hinge_loss at 0x7f371a196f80>}\n"
          ]
        },
        {
          "output_type": "stream",
          "name": "stderr",
          "text": [
            "100%|██████████| 5000/5000 [00:36<00:00, 135.28it/s]\n"
          ]
        },
        {
          "output_type": "stream",
          "name": "stdout",
          "text": [
            "{'input_size': 1000, 'hidden_size': 30, 'n': 140, 'gamma': 0.00048828125, 'k': 7, 'step_size': 0.005, 'epochs': 5000, 'criterion': <function hinge_loss at 0x7f371a196f80>}\n"
          ]
        },
        {
          "output_type": "stream",
          "name": "stderr",
          "text": [
            "100%|██████████| 5000/5000 [00:35<00:00, 140.68it/s]\n"
          ]
        },
        {
          "output_type": "stream",
          "name": "stdout",
          "text": [
            "{'input_size': 1000, 'hidden_size': 30, 'n': 140, 'gamma': 0.000244140625, 'k': 7, 'step_size': 0.005, 'epochs': 5000, 'criterion': <function hinge_loss at 0x7f371a196f80>}\n"
          ]
        },
        {
          "output_type": "stream",
          "name": "stderr",
          "text": [
            "100%|██████████| 5000/5000 [00:36<00:00, 136.59it/s]\n"
          ]
        },
        {
          "output_type": "stream",
          "name": "stdout",
          "text": [
            "{'input_size': 1000, 'hidden_size': 30, 'n': 140, 'gamma': 0.0001220703125, 'k': 7, 'step_size': 0.005, 'epochs': 5000, 'criterion': <function hinge_loss at 0x7f371a196f80>}\n"
          ]
        },
        {
          "output_type": "stream",
          "name": "stderr",
          "text": [
            "100%|██████████| 5000/5000 [00:36<00:00, 135.97it/s]\n"
          ]
        },
        {
          "output_type": "stream",
          "name": "stdout",
          "text": [
            "{'input_size': 1000, 'hidden_size': 30, 'n': 140, 'gamma': 6.103515625e-05, 'k': 7, 'step_size': 0.005, 'epochs': 5000, 'criterion': <function hinge_loss at 0x7f371a196f80>}\n"
          ]
        },
        {
          "output_type": "stream",
          "name": "stderr",
          "text": [
            "100%|██████████| 5000/5000 [00:35<00:00, 141.30it/s]\n"
          ]
        },
        {
          "output_type": "stream",
          "name": "stdout",
          "text": [
            "{'input_size': 1000, 'hidden_size': 30, 'n': 140, 'gamma': 3.0517578125e-05, 'k': 7, 'step_size': 0.005, 'epochs': 5000, 'criterion': <function hinge_loss at 0x7f371a196f80>}\n"
          ]
        },
        {
          "output_type": "stream",
          "name": "stderr",
          "text": [
            "100%|██████████| 5000/5000 [00:36<00:00, 136.30it/s]\n"
          ]
        },
        {
          "output_type": "stream",
          "name": "stdout",
          "text": [
            "{'input_size': 1000, 'hidden_size': 30, 'n': 125, 'gamma': 1, 'k': 6, 'step_size': 0.005, 'epochs': 5000, 'criterion': <function hinge_loss at 0x7f371a196f80>}\n"
          ]
        },
        {
          "output_type": "stream",
          "name": "stderr",
          "text": [
            "100%|██████████| 5000/5000 [00:32<00:00, 153.42it/s]\n"
          ]
        },
        {
          "output_type": "stream",
          "name": "stdout",
          "text": [
            "{'input_size': 1000, 'hidden_size': 30, 'n': 125, 'gamma': 0.5, 'k': 6, 'step_size': 0.005, 'epochs': 5000, 'criterion': <function hinge_loss at 0x7f371a196f80>}\n"
          ]
        },
        {
          "output_type": "stream",
          "name": "stderr",
          "text": [
            "100%|██████████| 5000/5000 [00:33<00:00, 147.16it/s]\n"
          ]
        },
        {
          "output_type": "stream",
          "name": "stdout",
          "text": [
            "{'input_size': 1000, 'hidden_size': 30, 'n': 125, 'gamma': 0.25, 'k': 6, 'step_size': 0.005, 'epochs': 5000, 'criterion': <function hinge_loss at 0x7f371a196f80>}\n"
          ]
        },
        {
          "output_type": "stream",
          "name": "stderr",
          "text": [
            "100%|██████████| 5000/5000 [00:32<00:00, 153.40it/s]\n"
          ]
        },
        {
          "output_type": "stream",
          "name": "stdout",
          "text": [
            "{'input_size': 1000, 'hidden_size': 30, 'n': 125, 'gamma': 0.125, 'k': 6, 'step_size': 0.005, 'epochs': 5000, 'criterion': <function hinge_loss at 0x7f371a196f80>}\n"
          ]
        },
        {
          "output_type": "stream",
          "name": "stderr",
          "text": [
            "100%|██████████| 5000/5000 [00:33<00:00, 147.44it/s]\n"
          ]
        },
        {
          "output_type": "stream",
          "name": "stdout",
          "text": [
            "{'input_size': 1000, 'hidden_size': 30, 'n': 125, 'gamma': 0.0625, 'k': 6, 'step_size': 0.005, 'epochs': 5000, 'criterion': <function hinge_loss at 0x7f371a196f80>}\n"
          ]
        },
        {
          "output_type": "stream",
          "name": "stderr",
          "text": [
            "100%|██████████| 5000/5000 [00:32<00:00, 154.96it/s]\n"
          ]
        },
        {
          "output_type": "stream",
          "name": "stdout",
          "text": [
            "{'input_size': 1000, 'hidden_size': 30, 'n': 125, 'gamma': 0.03125, 'k': 6, 'step_size': 0.005, 'epochs': 5000, 'criterion': <function hinge_loss at 0x7f371a196f80>}\n"
          ]
        },
        {
          "output_type": "stream",
          "name": "stderr",
          "text": [
            "100%|██████████| 5000/5000 [00:33<00:00, 150.48it/s]\n"
          ]
        },
        {
          "output_type": "stream",
          "name": "stdout",
          "text": [
            "{'input_size': 1000, 'hidden_size': 30, 'n': 125, 'gamma': 0.015625, 'k': 6, 'step_size': 0.005, 'epochs': 5000, 'criterion': <function hinge_loss at 0x7f371a196f80>}\n"
          ]
        },
        {
          "output_type": "stream",
          "name": "stderr",
          "text": [
            "100%|██████████| 5000/5000 [00:32<00:00, 152.60it/s]\n"
          ]
        },
        {
          "output_type": "stream",
          "name": "stdout",
          "text": [
            "{'input_size': 1000, 'hidden_size': 30, 'n': 125, 'gamma': 0.0078125, 'k': 6, 'step_size': 0.005, 'epochs': 5000, 'criterion': <function hinge_loss at 0x7f371a196f80>}\n"
          ]
        },
        {
          "output_type": "stream",
          "name": "stderr",
          "text": [
            "100%|██████████| 5000/5000 [00:32<00:00, 155.31it/s]\n"
          ]
        },
        {
          "output_type": "stream",
          "name": "stdout",
          "text": [
            "{'input_size': 1000, 'hidden_size': 30, 'n': 125, 'gamma': 0.00390625, 'k': 6, 'step_size': 0.005, 'epochs': 5000, 'criterion': <function hinge_loss at 0x7f371a196f80>}\n"
          ]
        },
        {
          "output_type": "stream",
          "name": "stderr",
          "text": [
            "100%|██████████| 5000/5000 [00:33<00:00, 149.48it/s]\n"
          ]
        },
        {
          "output_type": "stream",
          "name": "stdout",
          "text": [
            "{'input_size': 1000, 'hidden_size': 30, 'n': 125, 'gamma': 0.001953125, 'k': 6, 'step_size': 0.005, 'epochs': 5000, 'criterion': <function hinge_loss at 0x7f371a196f80>}\n"
          ]
        },
        {
          "output_type": "stream",
          "name": "stderr",
          "text": [
            "100%|██████████| 5000/5000 [00:33<00:00, 150.28it/s]\n"
          ]
        },
        {
          "output_type": "stream",
          "name": "stdout",
          "text": [
            "{'input_size': 1000, 'hidden_size': 30, 'n': 125, 'gamma': 0.0009765625, 'k': 6, 'step_size': 0.005, 'epochs': 5000, 'criterion': <function hinge_loss at 0x7f371a196f80>}\n"
          ]
        },
        {
          "output_type": "stream",
          "name": "stderr",
          "text": [
            "100%|██████████| 5000/5000 [00:33<00:00, 149.83it/s]\n"
          ]
        },
        {
          "output_type": "stream",
          "name": "stdout",
          "text": [
            "{'input_size': 1000, 'hidden_size': 30, 'n': 125, 'gamma': 0.00048828125, 'k': 6, 'step_size': 0.005, 'epochs': 5000, 'criterion': <function hinge_loss at 0x7f371a196f80>}\n"
          ]
        },
        {
          "output_type": "stream",
          "name": "stderr",
          "text": [
            "100%|██████████| 5000/5000 [00:31<00:00, 156.64it/s]\n"
          ]
        },
        {
          "output_type": "stream",
          "name": "stdout",
          "text": [
            "{'input_size': 1000, 'hidden_size': 30, 'n': 125, 'gamma': 0.000244140625, 'k': 6, 'step_size': 0.005, 'epochs': 5000, 'criterion': <function hinge_loss at 0x7f371a196f80>}\n"
          ]
        },
        {
          "output_type": "stream",
          "name": "stderr",
          "text": [
            "100%|██████████| 5000/5000 [00:32<00:00, 152.79it/s]\n"
          ]
        },
        {
          "output_type": "stream",
          "name": "stdout",
          "text": [
            "{'input_size': 1000, 'hidden_size': 30, 'n': 125, 'gamma': 0.0001220703125, 'k': 6, 'step_size': 0.005, 'epochs': 5000, 'criterion': <function hinge_loss at 0x7f371a196f80>}\n"
          ]
        },
        {
          "output_type": "stream",
          "name": "stderr",
          "text": [
            "100%|██████████| 5000/5000 [00:32<00:00, 153.59it/s]\n"
          ]
        },
        {
          "output_type": "stream",
          "name": "stdout",
          "text": [
            "{'input_size': 1000, 'hidden_size': 30, 'n': 125, 'gamma': 6.103515625e-05, 'k': 6, 'step_size': 0.005, 'epochs': 5000, 'criterion': <function hinge_loss at 0x7f371a196f80>}\n"
          ]
        },
        {
          "output_type": "stream",
          "name": "stderr",
          "text": [
            "100%|██████████| 5000/5000 [00:31<00:00, 156.56it/s]\n"
          ]
        },
        {
          "output_type": "stream",
          "name": "stdout",
          "text": [
            "{'input_size': 1000, 'hidden_size': 30, 'n': 125, 'gamma': 3.0517578125e-05, 'k': 6, 'step_size': 0.005, 'epochs': 5000, 'criterion': <function hinge_loss at 0x7f371a196f80>}\n"
          ]
        },
        {
          "output_type": "stream",
          "name": "stderr",
          "text": [
            "100%|██████████| 5000/5000 [00:33<00:00, 150.62it/s]\n"
          ]
        },
        {
          "output_type": "stream",
          "name": "stdout",
          "text": [
            "{'input_size': 1000, 'hidden_size': 30, 'n': 110, 'gamma': 1, 'k': 5, 'step_size': 0.005, 'epochs': 5000, 'criterion': <function hinge_loss at 0x7f371a196f80>}\n"
          ]
        },
        {
          "output_type": "stream",
          "name": "stderr",
          "text": [
            "100%|██████████| 5000/5000 [00:29<00:00, 171.58it/s]\n"
          ]
        },
        {
          "output_type": "stream",
          "name": "stdout",
          "text": [
            "{'input_size': 1000, 'hidden_size': 30, 'n': 110, 'gamma': 0.5, 'k': 5, 'step_size': 0.005, 'epochs': 5000, 'criterion': <function hinge_loss at 0x7f371a196f80>}\n"
          ]
        },
        {
          "output_type": "stream",
          "name": "stderr",
          "text": [
            "100%|██████████| 5000/5000 [00:29<00:00, 171.73it/s]\n"
          ]
        },
        {
          "output_type": "stream",
          "name": "stdout",
          "text": [
            "{'input_size': 1000, 'hidden_size': 30, 'n': 110, 'gamma': 0.25, 'k': 5, 'step_size': 0.005, 'epochs': 5000, 'criterion': <function hinge_loss at 0x7f371a196f80>}\n"
          ]
        },
        {
          "output_type": "stream",
          "name": "stderr",
          "text": [
            "100%|██████████| 5000/5000 [00:29<00:00, 170.58it/s]\n"
          ]
        },
        {
          "output_type": "stream",
          "name": "stdout",
          "text": [
            "{'input_size': 1000, 'hidden_size': 30, 'n': 110, 'gamma': 0.125, 'k': 5, 'step_size': 0.005, 'epochs': 5000, 'criterion': <function hinge_loss at 0x7f371a196f80>}\n"
          ]
        },
        {
          "output_type": "stream",
          "name": "stderr",
          "text": [
            "100%|██████████| 5000/5000 [00:29<00:00, 170.35it/s]\n"
          ]
        },
        {
          "output_type": "stream",
          "name": "stdout",
          "text": [
            "{'input_size': 1000, 'hidden_size': 30, 'n': 110, 'gamma': 0.0625, 'k': 5, 'step_size': 0.005, 'epochs': 5000, 'criterion': <function hinge_loss at 0x7f371a196f80>}\n"
          ]
        },
        {
          "output_type": "stream",
          "name": "stderr",
          "text": [
            "100%|██████████| 5000/5000 [00:29<00:00, 169.38it/s]\n"
          ]
        },
        {
          "output_type": "stream",
          "name": "stdout",
          "text": [
            "{'input_size': 1000, 'hidden_size': 30, 'n': 110, 'gamma': 0.03125, 'k': 5, 'step_size': 0.005, 'epochs': 5000, 'criterion': <function hinge_loss at 0x7f371a196f80>}\n"
          ]
        },
        {
          "output_type": "stream",
          "name": "stderr",
          "text": [
            "100%|██████████| 5000/5000 [00:29<00:00, 167.56it/s]\n"
          ]
        },
        {
          "output_type": "stream",
          "name": "stdout",
          "text": [
            "{'input_size': 1000, 'hidden_size': 30, 'n': 110, 'gamma': 0.015625, 'k': 5, 'step_size': 0.005, 'epochs': 5000, 'criterion': <function hinge_loss at 0x7f371a196f80>}\n"
          ]
        },
        {
          "output_type": "stream",
          "name": "stderr",
          "text": [
            "100%|██████████| 5000/5000 [00:29<00:00, 171.35it/s]\n"
          ]
        },
        {
          "output_type": "stream",
          "name": "stdout",
          "text": [
            "{'input_size': 1000, 'hidden_size': 30, 'n': 110, 'gamma': 0.0078125, 'k': 5, 'step_size': 0.005, 'epochs': 5000, 'criterion': <function hinge_loss at 0x7f371a196f80>}\n"
          ]
        },
        {
          "output_type": "stream",
          "name": "stderr",
          "text": [
            "100%|██████████| 5000/5000 [00:29<00:00, 171.79it/s]\n"
          ]
        },
        {
          "output_type": "stream",
          "name": "stdout",
          "text": [
            "{'input_size': 1000, 'hidden_size': 30, 'n': 110, 'gamma': 0.00390625, 'k': 5, 'step_size': 0.005, 'epochs': 5000, 'criterion': <function hinge_loss at 0x7f371a196f80>}\n"
          ]
        },
        {
          "output_type": "stream",
          "name": "stderr",
          "text": [
            "100%|██████████| 5000/5000 [00:29<00:00, 171.16it/s]\n"
          ]
        },
        {
          "output_type": "stream",
          "name": "stdout",
          "text": [
            "{'input_size': 1000, 'hidden_size': 30, 'n': 110, 'gamma': 0.001953125, 'k': 5, 'step_size': 0.005, 'epochs': 5000, 'criterion': <function hinge_loss at 0x7f371a196f80>}\n"
          ]
        },
        {
          "output_type": "stream",
          "name": "stderr",
          "text": [
            "100%|██████████| 5000/5000 [00:29<00:00, 171.03it/s]\n"
          ]
        },
        {
          "output_type": "stream",
          "name": "stdout",
          "text": [
            "{'input_size': 1000, 'hidden_size': 30, 'n': 110, 'gamma': 0.0009765625, 'k': 5, 'step_size': 0.005, 'epochs': 5000, 'criterion': <function hinge_loss at 0x7f371a196f80>}\n"
          ]
        },
        {
          "output_type": "stream",
          "name": "stderr",
          "text": [
            "100%|██████████| 5000/5000 [00:29<00:00, 168.72it/s]\n"
          ]
        },
        {
          "output_type": "stream",
          "name": "stdout",
          "text": [
            "{'input_size': 1000, 'hidden_size': 30, 'n': 110, 'gamma': 0.00048828125, 'k': 5, 'step_size': 0.005, 'epochs': 5000, 'criterion': <function hinge_loss at 0x7f371a196f80>}\n"
          ]
        },
        {
          "output_type": "stream",
          "name": "stderr",
          "text": [
            "100%|██████████| 5000/5000 [00:29<00:00, 167.45it/s]\n"
          ]
        },
        {
          "output_type": "stream",
          "name": "stdout",
          "text": [
            "{'input_size': 1000, 'hidden_size': 30, 'n': 110, 'gamma': 0.000244140625, 'k': 5, 'step_size': 0.005, 'epochs': 5000, 'criterion': <function hinge_loss at 0x7f371a196f80>}\n"
          ]
        },
        {
          "output_type": "stream",
          "name": "stderr",
          "text": [
            "100%|██████████| 5000/5000 [00:28<00:00, 172.80it/s]\n"
          ]
        },
        {
          "output_type": "stream",
          "name": "stdout",
          "text": [
            "{'input_size': 1000, 'hidden_size': 30, 'n': 110, 'gamma': 0.0001220703125, 'k': 5, 'step_size': 0.005, 'epochs': 5000, 'criterion': <function hinge_loss at 0x7f371a196f80>}\n"
          ]
        },
        {
          "output_type": "stream",
          "name": "stderr",
          "text": [
            "100%|██████████| 5000/5000 [00:29<00:00, 171.39it/s]\n"
          ]
        },
        {
          "output_type": "stream",
          "name": "stdout",
          "text": [
            "{'input_size': 1000, 'hidden_size': 30, 'n': 110, 'gamma': 6.103515625e-05, 'k': 5, 'step_size': 0.005, 'epochs': 5000, 'criterion': <function hinge_loss at 0x7f371a196f80>}\n"
          ]
        },
        {
          "output_type": "stream",
          "name": "stderr",
          "text": [
            "100%|██████████| 5000/5000 [00:29<00:00, 170.76it/s]\n"
          ]
        },
        {
          "output_type": "stream",
          "name": "stdout",
          "text": [
            "{'input_size': 1000, 'hidden_size': 30, 'n': 110, 'gamma': 3.0517578125e-05, 'k': 5, 'step_size': 0.005, 'epochs': 5000, 'criterion': <function hinge_loss at 0x7f371a196f80>}\n"
          ]
        },
        {
          "output_type": "stream",
          "name": "stderr",
          "text": [
            "100%|██████████| 5000/5000 [00:29<00:00, 171.81it/s]\n"
          ]
        },
        {
          "output_type": "stream",
          "name": "stdout",
          "text": [
            "{'input_size': 1000, 'hidden_size': 30, 'n': 95, 'gamma': 1, 'k': 4, 'step_size': 0.005, 'epochs': 5000, 'criterion': <function hinge_loss at 0x7f371a196f80>}\n"
          ]
        },
        {
          "output_type": "stream",
          "name": "stderr",
          "text": [
            "100%|██████████| 5000/5000 [00:26<00:00, 188.48it/s]\n"
          ]
        },
        {
          "output_type": "stream",
          "name": "stdout",
          "text": [
            "{'input_size': 1000, 'hidden_size': 30, 'n': 95, 'gamma': 0.5, 'k': 4, 'step_size': 0.005, 'epochs': 5000, 'criterion': <function hinge_loss at 0x7f371a196f80>}\n"
          ]
        },
        {
          "output_type": "stream",
          "name": "stderr",
          "text": [
            "100%|██████████| 5000/5000 [00:26<00:00, 191.52it/s]\n"
          ]
        },
        {
          "output_type": "stream",
          "name": "stdout",
          "text": [
            "{'input_size': 1000, 'hidden_size': 30, 'n': 95, 'gamma': 0.25, 'k': 4, 'step_size': 0.005, 'epochs': 5000, 'criterion': <function hinge_loss at 0x7f371a196f80>}\n"
          ]
        },
        {
          "output_type": "stream",
          "name": "stderr",
          "text": [
            "100%|██████████| 5000/5000 [00:26<00:00, 190.28it/s]\n"
          ]
        },
        {
          "output_type": "stream",
          "name": "stdout",
          "text": [
            "{'input_size': 1000, 'hidden_size': 30, 'n': 95, 'gamma': 0.125, 'k': 4, 'step_size': 0.005, 'epochs': 5000, 'criterion': <function hinge_loss at 0x7f371a196f80>}\n"
          ]
        },
        {
          "output_type": "stream",
          "name": "stderr",
          "text": [
            "100%|██████████| 5000/5000 [00:27<00:00, 183.52it/s]\n"
          ]
        },
        {
          "output_type": "stream",
          "name": "stdout",
          "text": [
            "{'input_size': 1000, 'hidden_size': 30, 'n': 95, 'gamma': 0.0625, 'k': 4, 'step_size': 0.005, 'epochs': 5000, 'criterion': <function hinge_loss at 0x7f371a196f80>}\n"
          ]
        },
        {
          "output_type": "stream",
          "name": "stderr",
          "text": [
            "100%|██████████| 5000/5000 [00:26<00:00, 190.34it/s]\n"
          ]
        },
        {
          "output_type": "stream",
          "name": "stdout",
          "text": [
            "{'input_size': 1000, 'hidden_size': 30, 'n': 95, 'gamma': 0.03125, 'k': 4, 'step_size': 0.005, 'epochs': 5000, 'criterion': <function hinge_loss at 0x7f371a196f80>}\n"
          ]
        },
        {
          "output_type": "stream",
          "name": "stderr",
          "text": [
            "100%|██████████| 5000/5000 [00:26<00:00, 190.98it/s]\n"
          ]
        },
        {
          "output_type": "stream",
          "name": "stdout",
          "text": [
            "{'input_size': 1000, 'hidden_size': 30, 'n': 95, 'gamma': 0.015625, 'k': 4, 'step_size': 0.005, 'epochs': 5000, 'criterion': <function hinge_loss at 0x7f371a196f80>}\n"
          ]
        },
        {
          "output_type": "stream",
          "name": "stderr",
          "text": [
            "100%|██████████| 5000/5000 [00:26<00:00, 189.75it/s]\n"
          ]
        },
        {
          "output_type": "stream",
          "name": "stdout",
          "text": [
            "{'input_size': 1000, 'hidden_size': 30, 'n': 95, 'gamma': 0.0078125, 'k': 4, 'step_size': 0.005, 'epochs': 5000, 'criterion': <function hinge_loss at 0x7f371a196f80>}\n"
          ]
        },
        {
          "output_type": "stream",
          "name": "stderr",
          "text": [
            "100%|██████████| 5000/5000 [00:26<00:00, 189.22it/s]\n"
          ]
        },
        {
          "output_type": "stream",
          "name": "stdout",
          "text": [
            "{'input_size': 1000, 'hidden_size': 30, 'n': 95, 'gamma': 0.00390625, 'k': 4, 'step_size': 0.005, 'epochs': 5000, 'criterion': <function hinge_loss at 0x7f371a196f80>}\n"
          ]
        },
        {
          "output_type": "stream",
          "name": "stderr",
          "text": [
            "100%|██████████| 5000/5000 [00:26<00:00, 185.76it/s]\n"
          ]
        },
        {
          "output_type": "stream",
          "name": "stdout",
          "text": [
            "{'input_size': 1000, 'hidden_size': 30, 'n': 95, 'gamma': 0.001953125, 'k': 4, 'step_size': 0.005, 'epochs': 5000, 'criterion': <function hinge_loss at 0x7f371a196f80>}\n"
          ]
        },
        {
          "output_type": "stream",
          "name": "stderr",
          "text": [
            "100%|██████████| 5000/5000 [00:27<00:00, 183.98it/s]\n"
          ]
        },
        {
          "output_type": "stream",
          "name": "stdout",
          "text": [
            "{'input_size': 1000, 'hidden_size': 30, 'n': 95, 'gamma': 0.0009765625, 'k': 4, 'step_size': 0.005, 'epochs': 5000, 'criterion': <function hinge_loss at 0x7f371a196f80>}\n"
          ]
        },
        {
          "output_type": "stream",
          "name": "stderr",
          "text": [
            "100%|██████████| 5000/5000 [00:26<00:00, 189.65it/s]\n"
          ]
        },
        {
          "output_type": "stream",
          "name": "stdout",
          "text": [
            "{'input_size': 1000, 'hidden_size': 30, 'n': 95, 'gamma': 0.00048828125, 'k': 4, 'step_size': 0.005, 'epochs': 5000, 'criterion': <function hinge_loss at 0x7f371a196f80>}\n"
          ]
        },
        {
          "output_type": "stream",
          "name": "stderr",
          "text": [
            "100%|██████████| 5000/5000 [00:26<00:00, 190.67it/s]\n"
          ]
        },
        {
          "output_type": "stream",
          "name": "stdout",
          "text": [
            "{'input_size': 1000, 'hidden_size': 30, 'n': 95, 'gamma': 0.000244140625, 'k': 4, 'step_size': 0.005, 'epochs': 5000, 'criterion': <function hinge_loss at 0x7f371a196f80>}\n"
          ]
        },
        {
          "output_type": "stream",
          "name": "stderr",
          "text": [
            "100%|██████████| 5000/5000 [00:25<00:00, 195.37it/s]\n"
          ]
        },
        {
          "output_type": "stream",
          "name": "stdout",
          "text": [
            "{'input_size': 1000, 'hidden_size': 30, 'n': 95, 'gamma': 0.0001220703125, 'k': 4, 'step_size': 0.005, 'epochs': 5000, 'criterion': <function hinge_loss at 0x7f371a196f80>}\n"
          ]
        },
        {
          "output_type": "stream",
          "name": "stderr",
          "text": [
            "100%|██████████| 5000/5000 [00:25<00:00, 194.88it/s]\n"
          ]
        },
        {
          "output_type": "stream",
          "name": "stdout",
          "text": [
            "{'input_size': 1000, 'hidden_size': 30, 'n': 95, 'gamma': 6.103515625e-05, 'k': 4, 'step_size': 0.005, 'epochs': 5000, 'criterion': <function hinge_loss at 0x7f371a196f80>}\n"
          ]
        },
        {
          "output_type": "stream",
          "name": "stderr",
          "text": [
            "100%|██████████| 5000/5000 [00:25<00:00, 193.48it/s]\n"
          ]
        },
        {
          "output_type": "stream",
          "name": "stdout",
          "text": [
            "{'input_size': 1000, 'hidden_size': 30, 'n': 95, 'gamma': 3.0517578125e-05, 'k': 4, 'step_size': 0.005, 'epochs': 5000, 'criterion': <function hinge_loss at 0x7f371a196f80>}\n"
          ]
        },
        {
          "output_type": "stream",
          "name": "stderr",
          "text": [
            "100%|██████████| 5000/5000 [00:26<00:00, 186.25it/s]\n"
          ]
        },
        {
          "output_type": "stream",
          "name": "stdout",
          "text": [
            "{'input_size': 1000, 'hidden_size': 30, 'n': 80, 'gamma': 1, 'k': 4, 'step_size': 0.005, 'epochs': 5000, 'criterion': <function hinge_loss at 0x7f371a196f80>}\n"
          ]
        },
        {
          "output_type": "stream",
          "name": "stderr",
          "text": [
            "100%|██████████| 5000/5000 [00:23<00:00, 211.43it/s]\n"
          ]
        },
        {
          "output_type": "stream",
          "name": "stdout",
          "text": [
            "{'input_size': 1000, 'hidden_size': 30, 'n': 80, 'gamma': 0.5, 'k': 4, 'step_size': 0.005, 'epochs': 5000, 'criterion': <function hinge_loss at 0x7f371a196f80>}\n"
          ]
        },
        {
          "output_type": "stream",
          "name": "stderr",
          "text": [
            "100%|██████████| 5000/5000 [00:23<00:00, 214.86it/s]\n"
          ]
        },
        {
          "output_type": "stream",
          "name": "stdout",
          "text": [
            "{'input_size': 1000, 'hidden_size': 30, 'n': 80, 'gamma': 0.25, 'k': 4, 'step_size': 0.005, 'epochs': 5000, 'criterion': <function hinge_loss at 0x7f371a196f80>}\n"
          ]
        },
        {
          "output_type": "stream",
          "name": "stderr",
          "text": [
            "100%|██████████| 5000/5000 [00:22<00:00, 225.89it/s]\n"
          ]
        },
        {
          "output_type": "stream",
          "name": "stdout",
          "text": [
            "{'input_size': 1000, 'hidden_size': 30, 'n': 80, 'gamma': 0.125, 'k': 4, 'step_size': 0.005, 'epochs': 5000, 'criterion': <function hinge_loss at 0x7f371a196f80>}\n"
          ]
        },
        {
          "output_type": "stream",
          "name": "stderr",
          "text": [
            "100%|██████████| 5000/5000 [00:23<00:00, 213.99it/s]\n"
          ]
        },
        {
          "output_type": "stream",
          "name": "stdout",
          "text": [
            "{'input_size': 1000, 'hidden_size': 30, 'n': 80, 'gamma': 0.0625, 'k': 4, 'step_size': 0.005, 'epochs': 5000, 'criterion': <function hinge_loss at 0x7f371a196f80>}\n"
          ]
        },
        {
          "output_type": "stream",
          "name": "stderr",
          "text": [
            "100%|██████████| 5000/5000 [00:23<00:00, 213.25it/s]\n"
          ]
        },
        {
          "output_type": "stream",
          "name": "stdout",
          "text": [
            "{'input_size': 1000, 'hidden_size': 30, 'n': 80, 'gamma': 0.03125, 'k': 4, 'step_size': 0.005, 'epochs': 5000, 'criterion': <function hinge_loss at 0x7f371a196f80>}\n"
          ]
        },
        {
          "output_type": "stream",
          "name": "stderr",
          "text": [
            "100%|██████████| 5000/5000 [00:22<00:00, 222.49it/s]\n"
          ]
        },
        {
          "output_type": "stream",
          "name": "stdout",
          "text": [
            "{'input_size': 1000, 'hidden_size': 30, 'n': 80, 'gamma': 0.015625, 'k': 4, 'step_size': 0.005, 'epochs': 5000, 'criterion': <function hinge_loss at 0x7f371a196f80>}\n"
          ]
        },
        {
          "output_type": "stream",
          "name": "stderr",
          "text": [
            "100%|██████████| 5000/5000 [00:22<00:00, 221.86it/s]\n"
          ]
        },
        {
          "output_type": "stream",
          "name": "stdout",
          "text": [
            "{'input_size': 1000, 'hidden_size': 30, 'n': 80, 'gamma': 0.0078125, 'k': 4, 'step_size': 0.005, 'epochs': 5000, 'criterion': <function hinge_loss at 0x7f371a196f80>}\n"
          ]
        },
        {
          "output_type": "stream",
          "name": "stderr",
          "text": [
            "100%|██████████| 5000/5000 [00:23<00:00, 211.27it/s]\n"
          ]
        },
        {
          "output_type": "stream",
          "name": "stdout",
          "text": [
            "{'input_size': 1000, 'hidden_size': 30, 'n': 80, 'gamma': 0.00390625, 'k': 4, 'step_size': 0.005, 'epochs': 5000, 'criterion': <function hinge_loss at 0x7f371a196f80>}\n"
          ]
        },
        {
          "output_type": "stream",
          "name": "stderr",
          "text": [
            "100%|██████████| 5000/5000 [00:23<00:00, 214.08it/s]\n"
          ]
        },
        {
          "output_type": "stream",
          "name": "stdout",
          "text": [
            "{'input_size': 1000, 'hidden_size': 30, 'n': 80, 'gamma': 0.001953125, 'k': 4, 'step_size': 0.005, 'epochs': 5000, 'criterion': <function hinge_loss at 0x7f371a196f80>}\n"
          ]
        },
        {
          "output_type": "stream",
          "name": "stderr",
          "text": [
            "100%|██████████| 5000/5000 [00:22<00:00, 224.33it/s]\n"
          ]
        },
        {
          "output_type": "stream",
          "name": "stdout",
          "text": [
            "{'input_size': 1000, 'hidden_size': 30, 'n': 80, 'gamma': 0.0009765625, 'k': 4, 'step_size': 0.005, 'epochs': 5000, 'criterion': <function hinge_loss at 0x7f371a196f80>}\n"
          ]
        },
        {
          "output_type": "stream",
          "name": "stderr",
          "text": [
            "100%|██████████| 5000/5000 [00:23<00:00, 212.75it/s]\n"
          ]
        },
        {
          "output_type": "stream",
          "name": "stdout",
          "text": [
            "{'input_size': 1000, 'hidden_size': 30, 'n': 80, 'gamma': 0.00048828125, 'k': 4, 'step_size': 0.005, 'epochs': 5000, 'criterion': <function hinge_loss at 0x7f371a196f80>}\n"
          ]
        },
        {
          "output_type": "stream",
          "name": "stderr",
          "text": [
            "100%|██████████| 5000/5000 [00:23<00:00, 213.51it/s]\n"
          ]
        },
        {
          "output_type": "stream",
          "name": "stdout",
          "text": [
            "{'input_size': 1000, 'hidden_size': 30, 'n': 80, 'gamma': 0.000244140625, 'k': 4, 'step_size': 0.005, 'epochs': 5000, 'criterion': <function hinge_loss at 0x7f371a196f80>}\n"
          ]
        },
        {
          "output_type": "stream",
          "name": "stderr",
          "text": [
            "100%|██████████| 5000/5000 [00:22<00:00, 224.05it/s]\n"
          ]
        },
        {
          "output_type": "stream",
          "name": "stdout",
          "text": [
            "{'input_size': 1000, 'hidden_size': 30, 'n': 80, 'gamma': 0.0001220703125, 'k': 4, 'step_size': 0.005, 'epochs': 5000, 'criterion': <function hinge_loss at 0x7f371a196f80>}\n"
          ]
        },
        {
          "output_type": "stream",
          "name": "stderr",
          "text": [
            "100%|██████████| 5000/5000 [00:23<00:00, 210.39it/s]\n"
          ]
        },
        {
          "output_type": "stream",
          "name": "stdout",
          "text": [
            "{'input_size': 1000, 'hidden_size': 30, 'n': 80, 'gamma': 6.103515625e-05, 'k': 4, 'step_size': 0.005, 'epochs': 5000, 'criterion': <function hinge_loss at 0x7f371a196f80>}\n"
          ]
        },
        {
          "output_type": "stream",
          "name": "stderr",
          "text": [
            "100%|██████████| 5000/5000 [00:23<00:00, 211.10it/s]\n"
          ]
        },
        {
          "output_type": "stream",
          "name": "stdout",
          "text": [
            "{'input_size': 1000, 'hidden_size': 30, 'n': 80, 'gamma': 3.0517578125e-05, 'k': 4, 'step_size': 0.005, 'epochs': 5000, 'criterion': <function hinge_loss at 0x7f371a196f80>}\n"
          ]
        },
        {
          "output_type": "stream",
          "name": "stderr",
          "text": [
            "100%|██████████| 5000/5000 [00:23<00:00, 217.03it/s]\n"
          ]
        },
        {
          "output_type": "stream",
          "name": "stdout",
          "text": [
            "{'input_size': 1000, 'hidden_size': 30, 'n': 65, 'gamma': 1, 'k': 3, 'step_size': 0.005, 'epochs': 5000, 'criterion': <function hinge_loss at 0x7f371a196f80>}\n"
          ]
        },
        {
          "output_type": "stream",
          "name": "stderr",
          "text": [
            "100%|██████████| 5000/5000 [00:19<00:00, 250.35it/s]\n"
          ]
        },
        {
          "output_type": "stream",
          "name": "stdout",
          "text": [
            "{'input_size': 1000, 'hidden_size': 30, 'n': 65, 'gamma': 0.5, 'k': 3, 'step_size': 0.005, 'epochs': 5000, 'criterion': <function hinge_loss at 0x7f371a196f80>}\n"
          ]
        },
        {
          "output_type": "stream",
          "name": "stderr",
          "text": [
            "100%|██████████| 5000/5000 [00:19<00:00, 254.97it/s]\n"
          ]
        },
        {
          "output_type": "stream",
          "name": "stdout",
          "text": [
            "{'input_size': 1000, 'hidden_size': 30, 'n': 65, 'gamma': 0.25, 'k': 3, 'step_size': 0.005, 'epochs': 5000, 'criterion': <function hinge_loss at 0x7f371a196f80>}\n"
          ]
        },
        {
          "output_type": "stream",
          "name": "stderr",
          "text": [
            "100%|██████████| 5000/5000 [00:20<00:00, 247.27it/s]\n"
          ]
        },
        {
          "output_type": "stream",
          "name": "stdout",
          "text": [
            "{'input_size': 1000, 'hidden_size': 30, 'n': 65, 'gamma': 0.125, 'k': 3, 'step_size': 0.005, 'epochs': 5000, 'criterion': <function hinge_loss at 0x7f371a196f80>}\n"
          ]
        },
        {
          "output_type": "stream",
          "name": "stderr",
          "text": [
            "100%|██████████| 5000/5000 [00:19<00:00, 257.76it/s]\n"
          ]
        },
        {
          "output_type": "stream",
          "name": "stdout",
          "text": [
            "{'input_size': 1000, 'hidden_size': 30, 'n': 65, 'gamma': 0.0625, 'k': 3, 'step_size': 0.005, 'epochs': 5000, 'criterion': <function hinge_loss at 0x7f371a196f80>}\n"
          ]
        },
        {
          "output_type": "stream",
          "name": "stderr",
          "text": [
            "100%|██████████| 5000/5000 [00:22<00:00, 225.09it/s]\n"
          ]
        },
        {
          "output_type": "stream",
          "name": "stdout",
          "text": [
            "{'input_size': 1000, 'hidden_size': 30, 'n': 65, 'gamma': 0.03125, 'k': 3, 'step_size': 0.005, 'epochs': 5000, 'criterion': <function hinge_loss at 0x7f371a196f80>}\n"
          ]
        },
        {
          "output_type": "stream",
          "name": "stderr",
          "text": [
            "100%|██████████| 5000/5000 [00:19<00:00, 251.52it/s]\n"
          ]
        },
        {
          "output_type": "stream",
          "name": "stdout",
          "text": [
            "{'input_size': 1000, 'hidden_size': 30, 'n': 65, 'gamma': 0.015625, 'k': 3, 'step_size': 0.005, 'epochs': 5000, 'criterion': <function hinge_loss at 0x7f371a196f80>}\n"
          ]
        },
        {
          "output_type": "stream",
          "name": "stderr",
          "text": [
            "100%|██████████| 5000/5000 [00:20<00:00, 247.55it/s]\n"
          ]
        },
        {
          "output_type": "stream",
          "name": "stdout",
          "text": [
            "{'input_size': 1000, 'hidden_size': 30, 'n': 65, 'gamma': 0.0078125, 'k': 3, 'step_size': 0.005, 'epochs': 5000, 'criterion': <function hinge_loss at 0x7f371a196f80>}\n"
          ]
        },
        {
          "output_type": "stream",
          "name": "stderr",
          "text": [
            "100%|██████████| 5000/5000 [00:19<00:00, 257.99it/s]\n"
          ]
        },
        {
          "output_type": "stream",
          "name": "stdout",
          "text": [
            "{'input_size': 1000, 'hidden_size': 30, 'n': 65, 'gamma': 0.00390625, 'k': 3, 'step_size': 0.005, 'epochs': 5000, 'criterion': <function hinge_loss at 0x7f371a196f80>}\n"
          ]
        },
        {
          "output_type": "stream",
          "name": "stderr",
          "text": [
            "100%|██████████| 5000/5000 [00:20<00:00, 241.96it/s]\n"
          ]
        },
        {
          "output_type": "stream",
          "name": "stdout",
          "text": [
            "{'input_size': 1000, 'hidden_size': 30, 'n': 65, 'gamma': 0.001953125, 'k': 3, 'step_size': 0.005, 'epochs': 5000, 'criterion': <function hinge_loss at 0x7f371a196f80>}\n"
          ]
        },
        {
          "output_type": "stream",
          "name": "stderr",
          "text": [
            "100%|██████████| 5000/5000 [00:19<00:00, 261.83it/s]\n"
          ]
        },
        {
          "output_type": "stream",
          "name": "stdout",
          "text": [
            "{'input_size': 1000, 'hidden_size': 30, 'n': 65, 'gamma': 0.0009765625, 'k': 3, 'step_size': 0.005, 'epochs': 5000, 'criterion': <function hinge_loss at 0x7f371a196f80>}\n"
          ]
        },
        {
          "output_type": "stream",
          "name": "stderr",
          "text": [
            "100%|██████████| 5000/5000 [00:20<00:00, 244.15it/s]\n"
          ]
        },
        {
          "output_type": "stream",
          "name": "stdout",
          "text": [
            "{'input_size': 1000, 'hidden_size': 30, 'n': 65, 'gamma': 0.00048828125, 'k': 3, 'step_size': 0.005, 'epochs': 5000, 'criterion': <function hinge_loss at 0x7f371a196f80>}\n"
          ]
        },
        {
          "output_type": "stream",
          "name": "stderr",
          "text": [
            "100%|██████████| 5000/5000 [00:19<00:00, 255.31it/s]\n"
          ]
        },
        {
          "output_type": "stream",
          "name": "stdout",
          "text": [
            "{'input_size': 1000, 'hidden_size': 30, 'n': 65, 'gamma': 0.000244140625, 'k': 3, 'step_size': 0.005, 'epochs': 5000, 'criterion': <function hinge_loss at 0x7f371a196f80>}\n"
          ]
        },
        {
          "output_type": "stream",
          "name": "stderr",
          "text": [
            "100%|██████████| 5000/5000 [00:20<00:00, 241.67it/s]\n"
          ]
        },
        {
          "output_type": "stream",
          "name": "stdout",
          "text": [
            "{'input_size': 1000, 'hidden_size': 30, 'n': 65, 'gamma': 0.0001220703125, 'k': 3, 'step_size': 0.005, 'epochs': 5000, 'criterion': <function hinge_loss at 0x7f371a196f80>}\n"
          ]
        },
        {
          "output_type": "stream",
          "name": "stderr",
          "text": [
            "100%|██████████| 5000/5000 [00:19<00:00, 259.54it/s]\n"
          ]
        },
        {
          "output_type": "stream",
          "name": "stdout",
          "text": [
            "{'input_size': 1000, 'hidden_size': 30, 'n': 65, 'gamma': 6.103515625e-05, 'k': 3, 'step_size': 0.005, 'epochs': 5000, 'criterion': <function hinge_loss at 0x7f371a196f80>}\n"
          ]
        },
        {
          "output_type": "stream",
          "name": "stderr",
          "text": [
            "100%|██████████| 5000/5000 [00:20<00:00, 242.90it/s]\n"
          ]
        },
        {
          "output_type": "stream",
          "name": "stdout",
          "text": [
            "{'input_size': 1000, 'hidden_size': 30, 'n': 65, 'gamma': 3.0517578125e-05, 'k': 3, 'step_size': 0.005, 'epochs': 5000, 'criterion': <function hinge_loss at 0x7f371a196f80>}\n"
          ]
        },
        {
          "output_type": "stream",
          "name": "stderr",
          "text": [
            "100%|██████████| 5000/5000 [00:19<00:00, 259.97it/s]\n"
          ]
        },
        {
          "output_type": "stream",
          "name": "stdout",
          "text": [
            "{'input_size': 1000, 'hidden_size': 30, 'n': 50, 'gamma': 1, 'k': 2, 'step_size': 0.005, 'epochs': 5000, 'criterion': <function hinge_loss at 0x7f371a196f80>}\n"
          ]
        },
        {
          "output_type": "stream",
          "name": "stderr",
          "text": [
            "100%|██████████| 5000/5000 [00:15<00:00, 313.19it/s]\n"
          ]
        },
        {
          "output_type": "stream",
          "name": "stdout",
          "text": [
            "{'input_size': 1000, 'hidden_size': 30, 'n': 50, 'gamma': 0.5, 'k': 2, 'step_size': 0.005, 'epochs': 5000, 'criterion': <function hinge_loss at 0x7f371a196f80>}\n"
          ]
        },
        {
          "output_type": "stream",
          "name": "stderr",
          "text": [
            "100%|██████████| 5000/5000 [00:16<00:00, 296.70it/s]\n"
          ]
        },
        {
          "output_type": "stream",
          "name": "stdout",
          "text": [
            "{'input_size': 1000, 'hidden_size': 30, 'n': 50, 'gamma': 0.25, 'k': 2, 'step_size': 0.005, 'epochs': 5000, 'criterion': <function hinge_loss at 0x7f371a196f80>}\n"
          ]
        },
        {
          "output_type": "stream",
          "name": "stderr",
          "text": [
            "100%|██████████| 5000/5000 [00:16<00:00, 305.90it/s]\n"
          ]
        },
        {
          "output_type": "stream",
          "name": "stdout",
          "text": [
            "{'input_size': 1000, 'hidden_size': 30, 'n': 50, 'gamma': 0.125, 'k': 2, 'step_size': 0.005, 'epochs': 5000, 'criterion': <function hinge_loss at 0x7f371a196f80>}\n"
          ]
        },
        {
          "output_type": "stream",
          "name": "stderr",
          "text": [
            "100%|██████████| 5000/5000 [00:16<00:00, 311.33it/s]\n"
          ]
        },
        {
          "output_type": "stream",
          "name": "stdout",
          "text": [
            "{'input_size': 1000, 'hidden_size': 30, 'n': 50, 'gamma': 0.0625, 'k': 2, 'step_size': 0.005, 'epochs': 5000, 'criterion': <function hinge_loss at 0x7f371a196f80>}\n"
          ]
        },
        {
          "output_type": "stream",
          "name": "stderr",
          "text": [
            "100%|██████████| 5000/5000 [00:16<00:00, 309.39it/s]\n"
          ]
        },
        {
          "output_type": "stream",
          "name": "stdout",
          "text": [
            "{'input_size': 1000, 'hidden_size': 30, 'n': 50, 'gamma': 0.03125, 'k': 2, 'step_size': 0.005, 'epochs': 5000, 'criterion': <function hinge_loss at 0x7f371a196f80>}\n"
          ]
        },
        {
          "output_type": "stream",
          "name": "stderr",
          "text": [
            "100%|██████████| 5000/5000 [00:16<00:00, 310.06it/s]\n"
          ]
        },
        {
          "output_type": "stream",
          "name": "stdout",
          "text": [
            "{'input_size': 1000, 'hidden_size': 30, 'n': 50, 'gamma': 0.015625, 'k': 2, 'step_size': 0.005, 'epochs': 5000, 'criterion': <function hinge_loss at 0x7f371a196f80>}\n"
          ]
        },
        {
          "output_type": "stream",
          "name": "stderr",
          "text": [
            "100%|██████████| 5000/5000 [00:17<00:00, 290.27it/s]\n"
          ]
        },
        {
          "output_type": "stream",
          "name": "stdout",
          "text": [
            "{'input_size': 1000, 'hidden_size': 30, 'n': 50, 'gamma': 0.0078125, 'k': 2, 'step_size': 0.005, 'epochs': 5000, 'criterion': <function hinge_loss at 0x7f371a196f80>}\n"
          ]
        },
        {
          "output_type": "stream",
          "name": "stderr",
          "text": [
            "100%|██████████| 5000/5000 [00:15<00:00, 313.06it/s]\n"
          ]
        },
        {
          "output_type": "stream",
          "name": "stdout",
          "text": [
            "{'input_size': 1000, 'hidden_size': 30, 'n': 50, 'gamma': 0.00390625, 'k': 2, 'step_size': 0.005, 'epochs': 5000, 'criterion': <function hinge_loss at 0x7f371a196f80>}\n"
          ]
        },
        {
          "output_type": "stream",
          "name": "stderr",
          "text": [
            "100%|██████████| 5000/5000 [00:16<00:00, 309.94it/s]\n"
          ]
        },
        {
          "output_type": "stream",
          "name": "stdout",
          "text": [
            "{'input_size': 1000, 'hidden_size': 30, 'n': 50, 'gamma': 0.001953125, 'k': 2, 'step_size': 0.005, 'epochs': 5000, 'criterion': <function hinge_loss at 0x7f371a196f80>}\n"
          ]
        },
        {
          "output_type": "stream",
          "name": "stderr",
          "text": [
            "100%|██████████| 5000/5000 [00:16<00:00, 311.14it/s]\n"
          ]
        },
        {
          "output_type": "stream",
          "name": "stdout",
          "text": [
            "{'input_size': 1000, 'hidden_size': 30, 'n': 50, 'gamma': 0.0009765625, 'k': 2, 'step_size': 0.005, 'epochs': 5000, 'criterion': <function hinge_loss at 0x7f371a196f80>}\n"
          ]
        },
        {
          "output_type": "stream",
          "name": "stderr",
          "text": [
            "100%|██████████| 5000/5000 [00:16<00:00, 310.47it/s]\n"
          ]
        },
        {
          "output_type": "stream",
          "name": "stdout",
          "text": [
            "{'input_size': 1000, 'hidden_size': 30, 'n': 50, 'gamma': 0.00048828125, 'k': 2, 'step_size': 0.005, 'epochs': 5000, 'criterion': <function hinge_loss at 0x7f371a196f80>}\n"
          ]
        },
        {
          "output_type": "stream",
          "name": "stderr",
          "text": [
            "100%|██████████| 5000/5000 [00:16<00:00, 294.39it/s]\n"
          ]
        },
        {
          "output_type": "stream",
          "name": "stdout",
          "text": [
            "{'input_size': 1000, 'hidden_size': 30, 'n': 50, 'gamma': 0.000244140625, 'k': 2, 'step_size': 0.005, 'epochs': 5000, 'criterion': <function hinge_loss at 0x7f371a196f80>}\n"
          ]
        },
        {
          "output_type": "stream",
          "name": "stderr",
          "text": [
            "100%|██████████| 5000/5000 [00:15<00:00, 312.81it/s]\n"
          ]
        },
        {
          "output_type": "stream",
          "name": "stdout",
          "text": [
            "{'input_size': 1000, 'hidden_size': 30, 'n': 50, 'gamma': 0.0001220703125, 'k': 2, 'step_size': 0.005, 'epochs': 5000, 'criterion': <function hinge_loss at 0x7f371a196f80>}\n"
          ]
        },
        {
          "output_type": "stream",
          "name": "stderr",
          "text": [
            "100%|██████████| 5000/5000 [00:15<00:00, 315.61it/s]\n"
          ]
        },
        {
          "output_type": "stream",
          "name": "stdout",
          "text": [
            "{'input_size': 1000, 'hidden_size': 30, 'n': 50, 'gamma': 6.103515625e-05, 'k': 2, 'step_size': 0.005, 'epochs': 5000, 'criterion': <function hinge_loss at 0x7f371a196f80>}\n"
          ]
        },
        {
          "output_type": "stream",
          "name": "stderr",
          "text": [
            "100%|██████████| 5000/5000 [00:16<00:00, 312.13it/s]\n"
          ]
        },
        {
          "output_type": "stream",
          "name": "stdout",
          "text": [
            "{'input_size': 1000, 'hidden_size': 30, 'n': 50, 'gamma': 3.0517578125e-05, 'k': 2, 'step_size': 0.005, 'epochs': 5000, 'criterion': <function hinge_loss at 0x7f371a196f80>}\n"
          ]
        },
        {
          "output_type": "stream",
          "name": "stderr",
          "text": [
            "100%|██████████| 5000/5000 [00:16<00:00, 303.35it/s]\n"
          ]
        },
        {
          "output_type": "stream",
          "name": "stdout",
          "text": [
            "{'input_size': 1000, 'hidden_size': 30, 'n': 35, 'gamma': 1, 'k': 1, 'step_size': 0.005, 'epochs': 5000, 'criterion': <function hinge_loss at 0x7f371a196f80>}\n"
          ]
        },
        {
          "output_type": "stream",
          "name": "stderr",
          "text": [
            "100%|██████████| 5000/5000 [00:12<00:00, 386.72it/s]\n"
          ]
        },
        {
          "output_type": "stream",
          "name": "stdout",
          "text": [
            "{'input_size': 1000, 'hidden_size': 30, 'n': 35, 'gamma': 0.5, 'k': 1, 'step_size': 0.005, 'epochs': 5000, 'criterion': <function hinge_loss at 0x7f371a196f80>}\n"
          ]
        },
        {
          "output_type": "stream",
          "name": "stderr",
          "text": [
            "100%|██████████| 5000/5000 [00:12<00:00, 387.45it/s]\n"
          ]
        },
        {
          "output_type": "stream",
          "name": "stdout",
          "text": [
            "{'input_size': 1000, 'hidden_size': 30, 'n': 35, 'gamma': 0.25, 'k': 1, 'step_size': 0.005, 'epochs': 5000, 'criterion': <function hinge_loss at 0x7f371a196f80>}\n"
          ]
        },
        {
          "output_type": "stream",
          "name": "stderr",
          "text": [
            "100%|██████████| 5000/5000 [00:13<00:00, 381.23it/s]\n"
          ]
        },
        {
          "output_type": "stream",
          "name": "stdout",
          "text": [
            "{'input_size': 1000, 'hidden_size': 30, 'n': 35, 'gamma': 0.125, 'k': 1, 'step_size': 0.005, 'epochs': 5000, 'criterion': <function hinge_loss at 0x7f371a196f80>}\n"
          ]
        },
        {
          "output_type": "stream",
          "name": "stderr",
          "text": [
            "100%|██████████| 5000/5000 [00:12<00:00, 384.66it/s]\n"
          ]
        },
        {
          "output_type": "stream",
          "name": "stdout",
          "text": [
            "{'input_size': 1000, 'hidden_size': 30, 'n': 35, 'gamma': 0.0625, 'k': 1, 'step_size': 0.005, 'epochs': 5000, 'criterion': <function hinge_loss at 0x7f371a196f80>}\n"
          ]
        },
        {
          "output_type": "stream",
          "name": "stderr",
          "text": [
            "100%|██████████| 5000/5000 [00:13<00:00, 379.38it/s]\n"
          ]
        },
        {
          "output_type": "stream",
          "name": "stdout",
          "text": [
            "{'input_size': 1000, 'hidden_size': 30, 'n': 35, 'gamma': 0.03125, 'k': 1, 'step_size': 0.005, 'epochs': 5000, 'criterion': <function hinge_loss at 0x7f371a196f80>}\n"
          ]
        },
        {
          "output_type": "stream",
          "name": "stderr",
          "text": [
            "100%|██████████| 5000/5000 [00:13<00:00, 383.50it/s]\n"
          ]
        },
        {
          "output_type": "stream",
          "name": "stdout",
          "text": [
            "{'input_size': 1000, 'hidden_size': 30, 'n': 35, 'gamma': 0.015625, 'k': 1, 'step_size': 0.005, 'epochs': 5000, 'criterion': <function hinge_loss at 0x7f371a196f80>}\n"
          ]
        },
        {
          "output_type": "stream",
          "name": "stderr",
          "text": [
            "100%|██████████| 5000/5000 [00:13<00:00, 382.72it/s]\n"
          ]
        },
        {
          "output_type": "stream",
          "name": "stdout",
          "text": [
            "{'input_size': 1000, 'hidden_size': 30, 'n': 35, 'gamma': 0.0078125, 'k': 1, 'step_size': 0.005, 'epochs': 5000, 'criterion': <function hinge_loss at 0x7f371a196f80>}\n"
          ]
        },
        {
          "output_type": "stream",
          "name": "stderr",
          "text": [
            "100%|██████████| 5000/5000 [00:12<00:00, 386.31it/s]\n"
          ]
        },
        {
          "output_type": "stream",
          "name": "stdout",
          "text": [
            "{'input_size': 1000, 'hidden_size': 30, 'n': 35, 'gamma': 0.00390625, 'k': 1, 'step_size': 0.005, 'epochs': 5000, 'criterion': <function hinge_loss at 0x7f371a196f80>}\n"
          ]
        },
        {
          "output_type": "stream",
          "name": "stderr",
          "text": [
            "100%|██████████| 5000/5000 [00:12<00:00, 389.29it/s]\n"
          ]
        },
        {
          "output_type": "stream",
          "name": "stdout",
          "text": [
            "{'input_size': 1000, 'hidden_size': 30, 'n': 35, 'gamma': 0.001953125, 'k': 1, 'step_size': 0.005, 'epochs': 5000, 'criterion': <function hinge_loss at 0x7f371a196f80>}\n"
          ]
        },
        {
          "output_type": "stream",
          "name": "stderr",
          "text": [
            "100%|██████████| 5000/5000 [00:13<00:00, 381.77it/s]\n"
          ]
        },
        {
          "output_type": "stream",
          "name": "stdout",
          "text": [
            "{'input_size': 1000, 'hidden_size': 30, 'n': 35, 'gamma': 0.0009765625, 'k': 1, 'step_size': 0.005, 'epochs': 5000, 'criterion': <function hinge_loss at 0x7f371a196f80>}\n"
          ]
        },
        {
          "output_type": "stream",
          "name": "stderr",
          "text": [
            "100%|██████████| 5000/5000 [00:12<00:00, 389.41it/s]\n"
          ]
        },
        {
          "output_type": "stream",
          "name": "stdout",
          "text": [
            "{'input_size': 1000, 'hidden_size': 30, 'n': 35, 'gamma': 0.00048828125, 'k': 1, 'step_size': 0.005, 'epochs': 5000, 'criterion': <function hinge_loss at 0x7f371a196f80>}\n"
          ]
        },
        {
          "output_type": "stream",
          "name": "stderr",
          "text": [
            "100%|██████████| 5000/5000 [00:13<00:00, 380.71it/s]\n"
          ]
        },
        {
          "output_type": "stream",
          "name": "stdout",
          "text": [
            "{'input_size': 1000, 'hidden_size': 30, 'n': 35, 'gamma': 0.000244140625, 'k': 1, 'step_size': 0.005, 'epochs': 5000, 'criterion': <function hinge_loss at 0x7f371a196f80>}\n"
          ]
        },
        {
          "output_type": "stream",
          "name": "stderr",
          "text": [
            "100%|██████████| 5000/5000 [00:13<00:00, 381.45it/s]\n"
          ]
        },
        {
          "output_type": "stream",
          "name": "stdout",
          "text": [
            "{'input_size': 1000, 'hidden_size': 30, 'n': 35, 'gamma': 0.0001220703125, 'k': 1, 'step_size': 0.005, 'epochs': 5000, 'criterion': <function hinge_loss at 0x7f371a196f80>}\n"
          ]
        },
        {
          "output_type": "stream",
          "name": "stderr",
          "text": [
            "100%|██████████| 5000/5000 [00:14<00:00, 342.53it/s]\n"
          ]
        },
        {
          "output_type": "stream",
          "name": "stdout",
          "text": [
            "{'input_size': 1000, 'hidden_size': 30, 'n': 35, 'gamma': 6.103515625e-05, 'k': 1, 'step_size': 0.005, 'epochs': 5000, 'criterion': <function hinge_loss at 0x7f371a196f80>}\n"
          ]
        },
        {
          "output_type": "stream",
          "name": "stderr",
          "text": [
            "100%|██████████| 5000/5000 [00:12<00:00, 385.68it/s]\n"
          ]
        },
        {
          "output_type": "stream",
          "name": "stdout",
          "text": [
            "{'input_size': 1000, 'hidden_size': 30, 'n': 35, 'gamma': 3.0517578125e-05, 'k': 1, 'step_size': 0.005, 'epochs': 5000, 'criterion': <function hinge_loss at 0x7f371a196f80>}\n"
          ]
        },
        {
          "output_type": "stream",
          "name": "stderr",
          "text": [
            "100%|██████████| 5000/5000 [00:12<00:00, 389.55it/s]\n"
          ]
        },
        {
          "output_type": "stream",
          "name": "stdout",
          "text": [
            "{'input_size': 1000, 'hidden_size': 30, 'n': 20, 'gamma': 1, 'k': 1, 'step_size': 0.005, 'epochs': 5000, 'criterion': <function hinge_loss at 0x7f371a196f80>}\n"
          ]
        },
        {
          "output_type": "stream",
          "name": "stderr",
          "text": [
            "100%|██████████| 5000/5000 [00:09<00:00, 519.34it/s]\n"
          ]
        },
        {
          "output_type": "stream",
          "name": "stdout",
          "text": [
            "{'input_size': 1000, 'hidden_size': 30, 'n': 20, 'gamma': 0.5, 'k': 1, 'step_size': 0.005, 'epochs': 5000, 'criterion': <function hinge_loss at 0x7f371a196f80>}\n"
          ]
        },
        {
          "output_type": "stream",
          "name": "stderr",
          "text": [
            "100%|██████████| 5000/5000 [00:08<00:00, 582.96it/s]\n"
          ]
        },
        {
          "output_type": "stream",
          "name": "stdout",
          "text": [
            "{'input_size': 1000, 'hidden_size': 30, 'n': 20, 'gamma': 0.25, 'k': 1, 'step_size': 0.005, 'epochs': 5000, 'criterion': <function hinge_loss at 0x7f371a196f80>}\n"
          ]
        },
        {
          "output_type": "stream",
          "name": "stderr",
          "text": [
            "100%|██████████| 5000/5000 [00:09<00:00, 539.99it/s]\n"
          ]
        },
        {
          "output_type": "stream",
          "name": "stdout",
          "text": [
            "{'input_size': 1000, 'hidden_size': 30, 'n': 20, 'gamma': 0.125, 'k': 1, 'step_size': 0.005, 'epochs': 5000, 'criterion': <function hinge_loss at 0x7f371a196f80>}\n"
          ]
        },
        {
          "output_type": "stream",
          "name": "stderr",
          "text": [
            "100%|██████████| 5000/5000 [00:09<00:00, 511.15it/s]\n"
          ]
        },
        {
          "output_type": "stream",
          "name": "stdout",
          "text": [
            "{'input_size': 1000, 'hidden_size': 30, 'n': 20, 'gamma': 0.0625, 'k': 1, 'step_size': 0.005, 'epochs': 5000, 'criterion': <function hinge_loss at 0x7f371a196f80>}\n"
          ]
        },
        {
          "output_type": "stream",
          "name": "stderr",
          "text": [
            "100%|██████████| 5000/5000 [00:09<00:00, 540.87it/s]\n"
          ]
        },
        {
          "output_type": "stream",
          "name": "stdout",
          "text": [
            "{'input_size': 1000, 'hidden_size': 30, 'n': 20, 'gamma': 0.03125, 'k': 1, 'step_size': 0.005, 'epochs': 5000, 'criterion': <function hinge_loss at 0x7f371a196f80>}\n"
          ]
        },
        {
          "output_type": "stream",
          "name": "stderr",
          "text": [
            "100%|██████████| 5000/5000 [00:08<00:00, 576.24it/s]\n"
          ]
        },
        {
          "output_type": "stream",
          "name": "stdout",
          "text": [
            "{'input_size': 1000, 'hidden_size': 30, 'n': 20, 'gamma': 0.015625, 'k': 1, 'step_size': 0.005, 'epochs': 5000, 'criterion': <function hinge_loss at 0x7f371a196f80>}\n"
          ]
        },
        {
          "output_type": "stream",
          "name": "stderr",
          "text": [
            "100%|██████████| 5000/5000 [00:09<00:00, 519.62it/s]\n"
          ]
        },
        {
          "output_type": "stream",
          "name": "stdout",
          "text": [
            "{'input_size': 1000, 'hidden_size': 30, 'n': 20, 'gamma': 0.0078125, 'k': 1, 'step_size': 0.005, 'epochs': 5000, 'criterion': <function hinge_loss at 0x7f371a196f80>}\n"
          ]
        },
        {
          "output_type": "stream",
          "name": "stderr",
          "text": [
            "100%|██████████| 5000/5000 [00:09<00:00, 506.63it/s]\n"
          ]
        },
        {
          "output_type": "stream",
          "name": "stdout",
          "text": [
            "{'input_size': 1000, 'hidden_size': 30, 'n': 20, 'gamma': 0.00390625, 'k': 1, 'step_size': 0.005, 'epochs': 5000, 'criterion': <function hinge_loss at 0x7f371a196f80>}\n"
          ]
        },
        {
          "output_type": "stream",
          "name": "stderr",
          "text": [
            "100%|██████████| 5000/5000 [00:08<00:00, 569.01it/s]\n"
          ]
        },
        {
          "output_type": "stream",
          "name": "stdout",
          "text": [
            "{'input_size': 1000, 'hidden_size': 30, 'n': 20, 'gamma': 0.001953125, 'k': 1, 'step_size': 0.005, 'epochs': 5000, 'criterion': <function hinge_loss at 0x7f371a196f80>}\n"
          ]
        },
        {
          "output_type": "stream",
          "name": "stderr",
          "text": [
            "100%|██████████| 5000/5000 [00:09<00:00, 503.68it/s]\n"
          ]
        },
        {
          "output_type": "stream",
          "name": "stdout",
          "text": [
            "{'input_size': 1000, 'hidden_size': 30, 'n': 20, 'gamma': 0.0009765625, 'k': 1, 'step_size': 0.005, 'epochs': 5000, 'criterion': <function hinge_loss at 0x7f371a196f80>}\n"
          ]
        },
        {
          "output_type": "stream",
          "name": "stderr",
          "text": [
            "100%|██████████| 5000/5000 [00:09<00:00, 507.01it/s]\n"
          ]
        },
        {
          "output_type": "stream",
          "name": "stdout",
          "text": [
            "{'input_size': 1000, 'hidden_size': 30, 'n': 20, 'gamma': 0.00048828125, 'k': 1, 'step_size': 0.005, 'epochs': 5000, 'criterion': <function hinge_loss at 0x7f371a196f80>}\n"
          ]
        },
        {
          "output_type": "stream",
          "name": "stderr",
          "text": [
            "100%|██████████| 5000/5000 [00:09<00:00, 529.61it/s]\n"
          ]
        },
        {
          "output_type": "stream",
          "name": "stdout",
          "text": [
            "{'input_size': 1000, 'hidden_size': 30, 'n': 20, 'gamma': 0.000244140625, 'k': 1, 'step_size': 0.005, 'epochs': 5000, 'criterion': <function hinge_loss at 0x7f371a196f80>}\n"
          ]
        },
        {
          "output_type": "stream",
          "name": "stderr",
          "text": [
            "100%|██████████| 5000/5000 [00:08<00:00, 560.92it/s]\n"
          ]
        },
        {
          "output_type": "stream",
          "name": "stdout",
          "text": [
            "{'input_size': 1000, 'hidden_size': 30, 'n': 20, 'gamma': 0.0001220703125, 'k': 1, 'step_size': 0.005, 'epochs': 5000, 'criterion': <function hinge_loss at 0x7f371a196f80>}\n"
          ]
        },
        {
          "output_type": "stream",
          "name": "stderr",
          "text": [
            "100%|██████████| 5000/5000 [00:09<00:00, 512.93it/s]\n"
          ]
        },
        {
          "output_type": "stream",
          "name": "stdout",
          "text": [
            "{'input_size': 1000, 'hidden_size': 30, 'n': 20, 'gamma': 6.103515625e-05, 'k': 1, 'step_size': 0.005, 'epochs': 5000, 'criterion': <function hinge_loss at 0x7f371a196f80>}\n"
          ]
        },
        {
          "output_type": "stream",
          "name": "stderr",
          "text": [
            "100%|██████████| 5000/5000 [00:09<00:00, 512.97it/s]\n"
          ]
        },
        {
          "output_type": "stream",
          "name": "stdout",
          "text": [
            "{'input_size': 1000, 'hidden_size': 30, 'n': 20, 'gamma': 3.0517578125e-05, 'k': 1, 'step_size': 0.005, 'epochs': 5000, 'criterion': <function hinge_loss at 0x7f371a196f80>}\n"
          ]
        },
        {
          "output_type": "stream",
          "name": "stderr",
          "text": [
            "100%|██████████| 5000/5000 [00:08<00:00, 584.42it/s]\n"
          ]
        }
      ]
    },
    {
      "cell_type": "code",
      "execution_count": null,
      "metadata": {
        "id": "1ZtGzVhVxI1I"
      },
      "outputs": [],
      "source": [
        "f_name = './drive/MyDrive/BO_data/data_matrix'\n",
        "with open(f_name + '.pkl', 'wb') as output_file:\n",
        "  pickle.dump(data_matrix, output_file)\n",
        "\n",
        "with open(f_name+'_cfg.pkl', 'wb') as output_file:\n",
        "  pickle.dump(base_cfg, output_file)"
      ]
    },
    {
      "cell_type": "code",
      "execution_count": null,
      "metadata": {
        "id": "vPhI3T_Yxb5G",
        "colab": {
          "base_uri": "https://localhost:8080/",
          "height": 187
        },
        "outputId": "49caa7c7-9914-4ba1-bd4a-89b9f51f8ec1"
      },
      "outputs": [
        {
          "output_type": "error",
          "ename": "FileNotFoundError",
          "evalue": "ignored",
          "traceback": [
            "\u001b[0;31m---------------------------------------------------------------------------\u001b[0m",
            "\u001b[0;31mFileNotFoundError\u001b[0m                         Traceback (most recent call last)",
            "\u001b[0;32m<ipython-input-8-0c67e3e49973>\u001b[0m in \u001b[0;36m<cell line: 1>\u001b[0;34m()\u001b[0m\n\u001b[0;32m----> 1\u001b[0;31m \u001b[0;32mwith\u001b[0m \u001b[0mopen\u001b[0m\u001b[0;34m(\u001b[0m\u001b[0;34m'./drive/MyDrive/BO_data/data_matrix.pkl'\u001b[0m\u001b[0;34m,\u001b[0m\u001b[0;34m'rb'\u001b[0m\u001b[0;34m)\u001b[0m \u001b[0;32mas\u001b[0m \u001b[0mpickle_read\u001b[0m\u001b[0;34m:\u001b[0m\u001b[0;34m\u001b[0m\u001b[0;34m\u001b[0m\u001b[0m\n\u001b[0m\u001b[1;32m      2\u001b[0m   \u001b[0mdata_matrix\u001b[0m \u001b[0;34m=\u001b[0m \u001b[0mpickle\u001b[0m\u001b[0;34m.\u001b[0m\u001b[0mload\u001b[0m\u001b[0;34m(\u001b[0m\u001b[0mpickle_read\u001b[0m\u001b[0;34m)\u001b[0m\u001b[0;34m\u001b[0m\u001b[0;34m\u001b[0m\u001b[0m\n",
            "\u001b[0;31mFileNotFoundError\u001b[0m: [Errno 2] No such file or directory: './drive/MyDrive/BO_data/data_matrix.pkl'"
          ]
        }
      ],
      "source": [
        "with open('./drive/MyDrive/BO_data/data_matrix.pkl','rb') as pickle_read:\n",
        "  data_matrix = pickle.load(pickle_read)"
      ]
    },
    {
      "cell_type": "code",
      "source": [
        "data_matrix[0][0].keys()"
      ],
      "metadata": {
        "colab": {
          "base_uri": "https://localhost:8080/"
        },
        "id": "fweyCLIYLjL9",
        "outputId": "d5d36131-5cc8-439f-8274-8ff33fd004bf"
      },
      "execution_count": null,
      "outputs": [
        {
          "output_type": "execute_result",
          "data": {
            "text/plain": [
              "dict_keys(['fully_fitted_frac', 'correctly_classified_frac', 'correctly_classified_clean_frac', 'correctly_classified_corrupt_frac', 'clean_loss', 'corrupt_loss', 'total_loss', 'test_losses', 'final_test_loss', 'test_correctly_classified_frac'])"
            ]
          },
          "metadata": {},
          "execution_count": 10
        }
      ]
    },
    {
      "cell_type": "markdown",
      "source": [
        "**Clean Loss**"
      ],
      "metadata": {
        "id": "Jo-c8JokY2h3"
      }
    },
    {
      "cell_type": "code",
      "source": [
        "datum = 'clean_loss'\n",
        "\n",
        "heatmap = [list(map(lambda x: x[datum][-1].item(), row)) for row in data_matrix]\n",
        "heatmap = [list(reversed(row)) for row in heatmap]\n",
        "\n",
        "df_heatmap = pd.DataFrame(heatmap, index = n_vals, columns = list(reversed(log_gamma_vals)) ).T\n",
        "sns.set()\n",
        "\n",
        "ax = sns.heatmap(df_heatmap, vmin=0, vmax=1)\n",
        "ax.set_xlabel(r'$n$')\n",
        "ax.set_ylabel(r'$\\log_2 \\gamma$')\n",
        "ax.invert_yaxis()\n",
        "ax.invert_xaxis()\n",
        "\n",
        "plt.title('Clean Loss')\n",
        "\n",
        "file_name = datum + '_heat_map.png'\n",
        "plt.savefig('./drive/MyDrive/BO_data/'+file_name)"
      ],
      "metadata": {
        "colab": {
          "base_uri": "https://localhost:8080/",
          "height": 480
        },
        "id": "69zs7d6RXjXi",
        "outputId": "b299797d-8ed7-409d-c16d-9afbb98b2172"
      },
      "execution_count": null,
      "outputs": [
        {
          "output_type": "display_data",
          "data": {
            "text/plain": [
              "<Figure size 640x480 with 2 Axes>"
            ],
            "image/png": "[encoded data removed]"
          },
          "metadata": {}
        }
      ]
    },
    {
      "cell_type": "markdown",
      "source": [
        "**Corrupt Loss**"
      ],
      "metadata": {
        "id": "jU4NE26RY_Wh"
      }
    },
    {
      "cell_type": "code",
      "source": [
        "datum = 'corrupt_loss'\n",
        "\n",
        "heatmap = [list(map(lambda x: x[datum][-1].item()/2, row)) for row in data_matrix] #the /2 should be fixed\n",
        "heatmap = [list(reversed(row)) for row in heatmap]\n",
        "\n",
        "df_heatmap = pd.DataFrame(heatmap, index = n_vals, columns = list(reversed(log_gamma_vals)) ).T\n",
        "\n",
        "sns.set()\n",
        "\n",
        "ax = sns.heatmap(df_heatmap, vmin=0, vmax=1, cmap=\"crest\")\n",
        "ax.set_xlabel(r'$n$')\n",
        "ax.set_ylabel(r'$\\log_2 \\gamma$')\n",
        "ax.invert_yaxis()\n",
        "ax.invert_xaxis()\n",
        "\n",
        "plt.title('Corrupt Loss')\n",
        "\n",
        "file_name = datum + '_heat_map.png'\n",
        "plt.savefig('./drive/MyDrive/BO_data/'+file_name)"
      ],
      "metadata": {
        "colab": {
          "base_uri": "https://localhost:8080/",
          "height": 232
        },
        "id": "2l-7cwzaY-gu",
        "outputId": "0e11b3eb-2a0f-499c-bb36-05e421452e27"
      },
      "execution_count": null,
      "outputs": [
        {
          "output_type": "error",
          "ename": "NameError",
          "evalue": "ignored",
          "traceback": [
            "\u001b[0;31m---------------------------------------------------------------------------\u001b[0m",
            "\u001b[0;31mNameError\u001b[0m                                 Traceback (most recent call last)",
            "\u001b[0;32m<ipython-input-6-0e576d58a09e>\u001b[0m in \u001b[0;36m<cell line: 3>\u001b[0;34m()\u001b[0m\n\u001b[1;32m      1\u001b[0m \u001b[0mdatum\u001b[0m \u001b[0;34m=\u001b[0m \u001b[0;34m'corrupt_loss'\u001b[0m\u001b[0;34m\u001b[0m\u001b[0;34m\u001b[0m\u001b[0m\n\u001b[1;32m      2\u001b[0m \u001b[0;34m\u001b[0m\u001b[0m\n\u001b[0;32m----> 3\u001b[0;31m \u001b[0mheatmap\u001b[0m \u001b[0;34m=\u001b[0m \u001b[0;34m[\u001b[0m\u001b[0mlist\u001b[0m\u001b[0;34m(\u001b[0m\u001b[0mmap\u001b[0m\u001b[0;34m(\u001b[0m\u001b[0;32mlambda\u001b[0m \u001b[0mx\u001b[0m\u001b[0;34m:\u001b[0m \u001b[0mx\u001b[0m\u001b[0;34m[\u001b[0m\u001b[0mdatum\u001b[0m\u001b[0;34m]\u001b[0m\u001b[0;34m[\u001b[0m\u001b[0;34m-\u001b[0m\u001b[0;36m1\u001b[0m\u001b[0;34m]\u001b[0m\u001b[0;34m.\u001b[0m\u001b[0mitem\u001b[0m\u001b[0;34m(\u001b[0m\u001b[0;34m)\u001b[0m\u001b[0;34m/\u001b[0m\u001b[0;36m2\u001b[0m\u001b[0;34m,\u001b[0m \u001b[0mrow\u001b[0m\u001b[0;34m)\u001b[0m\u001b[0;34m)\u001b[0m \u001b[0;32mfor\u001b[0m \u001b[0mrow\u001b[0m \u001b[0;32min\u001b[0m \u001b[0mdata_matrix\u001b[0m\u001b[0;34m]\u001b[0m \u001b[0;31m#the /2 should be fixed\u001b[0m\u001b[0;34m\u001b[0m\u001b[0;34m\u001b[0m\u001b[0m\n\u001b[0m\u001b[1;32m      4\u001b[0m \u001b[0mheatmap\u001b[0m \u001b[0;34m=\u001b[0m \u001b[0;34m[\u001b[0m\u001b[0mlist\u001b[0m\u001b[0;34m(\u001b[0m\u001b[0mreversed\u001b[0m\u001b[0;34m(\u001b[0m\u001b[0mrow\u001b[0m\u001b[0;34m)\u001b[0m\u001b[0;34m)\u001b[0m \u001b[0;32mfor\u001b[0m \u001b[0mrow\u001b[0m \u001b[0;32min\u001b[0m \u001b[0mheatmap\u001b[0m\u001b[0;34m]\u001b[0m\u001b[0;34m\u001b[0m\u001b[0;34m\u001b[0m\u001b[0m\n\u001b[1;32m      5\u001b[0m \u001b[0;34m\u001b[0m\u001b[0m\n",
            "\u001b[0;31mNameError\u001b[0m: name 'data_matrix' is not defined"
          ]
        }
      ]
    },
    {
      "cell_type": "code",
      "source": [
        "sns.set()"
      ],
      "metadata": {
        "id": "oKL7-fz0J_RG"
      },
      "execution_count": null,
      "outputs": []
    },
    {
      "cell_type": "code",
      "source": [
        "datum = 'total_loss'\n",
        "\n",
        "heatmap = [list(map(lambda x: x[datum][-1], row)) for row in data_matrix]\n",
        "heatmap = [list(reversed(row)) for row in heatmap]\n",
        "\n",
        "df_heatmap = pd.DataFrame(heatmap, index = n_vals, columns = list(reversed(log_gamma_vals)) ).T\n",
        "sns.set()\n",
        "\n",
        "ax = sns.heatmap(df_heatmap, vmin=0, vmax=1)\n",
        "ax.set_xlabel(r'$n$')\n",
        "ax.set_ylabel(r'$\\log_2 \\gamma$')\n",
        "ax.invert_yaxis()\n",
        "ax.invert_xaxis()\n",
        "\n",
        "plt.title('Total Loss')\n",
        "\n",
        "file_name = datum + '_heat_map.png'\n",
        "plt.savefig('./drive/MyDrive/BO_data/'+file_name)"
      ],
      "metadata": {
        "colab": {
          "base_uri": "https://localhost:8080/",
          "height": 480
        },
        "id": "y88FZZVUaTjC",
        "outputId": "f05f2b85-f951-403d-c647-4ed1291d107a"
      },
      "execution_count": null,
      "outputs": [
        {
          "output_type": "display_data",
          "data": {
            "text/plain": [
              "<Figure size 640x480 with 2 Axes>"
            ],
            "image/png": "[encoded data removed]"
          },
          "metadata": {}
        }
      ]
    },
    {
      "cell_type": "code",
      "source": [
        "datum = 'final_test_loss'\n",
        "\n",
        "heatmap = [list(map(lambda x: x[datum], row)) for row in data_matrix]\n",
        "heatmap = [list(reversed(row)) for row in heatmap]\n",
        "\n",
        "df_heatmap = pd.DataFrame(heatmap, index = n_vals, columns = list(reversed(log_gamma_vals)) ).T\n",
        "sns.set()\n",
        "\n",
        "ax = sns.heatmap(df_heatmap, vmin=0, vmax=1)\n",
        "ax.set_xlabel(r'$n$')\n",
        "ax.set_ylabel(r'$\\log_2 \\gamma$')\n",
        "ax.invert_yaxis()\n",
        "ax.invert_xaxis()\n",
        "\n",
        "ax.plot(np.linspace(0.01,13.99,100), [16+math.log(1/(20 + (14-x)*15 ), 2) for x in np.linspace(0.01,13.99,100)], color='yellow')\n",
        "\n",
        "plt.title('Test Loss')\n",
        "\n",
        "file_name = datum + '_heat_map.png'\n",
        "plt.savefig('./drive/MyDrive/BO_data/'+file_name)"
      ],
      "metadata": {
        "colab": {
          "base_uri": "https://localhost:8080/",
          "height": 480
        },
        "id": "nv-O6FGBgfq6",
        "outputId": "73c8aea9-95fe-48af-b6da-87c035ce90a5"
      },
      "execution_count": null,
      "outputs": [
        {
          "output_type": "display_data",
          "data": {
            "text/plain": [
              "<Figure size 640x480 with 2 Axes>"
            ],
            "image/png": "[encoded data removed]"
          },
          "metadata": {}
        }
      ]
    }
  ],
  "metadata": {
    "colab": {
      "provenance": [],
      "collapsed_sections": [
        "mbfwpwfHV9oi"
      ],
      "gpuType": "T4"
    },
    "kernelspec": {
      "display_name": "Python 3",
      "name": "python3"
    },
    "language_info": {
      "name": "python"
    },
    "gpuClass": "standard",
    "accelerator": "GPU"
  },
  "nbformat": 4,
  "nbformat_minor": 0
}